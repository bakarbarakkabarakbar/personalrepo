{
 "cells": [
  {
   "cell_type": "code",
   "execution_count": 1,
   "source": [
    "from math import sin, cos, radians, pi\n",
    "from numpy import arange\n",
    "import matplotlib.pyplot as plt\n",
    "import matplotlib.animation as ani\n",
    "import ipywidgets as widgets\n",
    "from IPython.display import display\n",
    "%matplotlib ipympl"
   ],
   "outputs": [],
   "metadata": {}
  },
  {
   "cell_type": "code",
   "execution_count": 2,
   "source": [
    "def positionsinglependulum(length, teta):\n",
    "    \"\"\"Function that return the position of the single pendulum model based on length and angle. \\n \n",
    "    Based on the trigonometri principle from equation x=length*sin(teta) y=-(length*cos(teta))\n",
    "\n",
    "    Parameters\n",
    "    ----------\n",
    "    length : Int\n",
    "        Lenght of the stick\n",
    "    teta : Float\n",
    "        Angle of the stick from normal on radians\n",
    "\n",
    "    Returns\n",
    "    -------\n",
    "    [Float, Float]\n",
    "        The x axis and y axis position of the end of the stick to the reference (0,0) respectively\n",
    "    \"\"\"\n",
    "    return length*sin(teta), -length*cos(teta)\n",
    "\n",
    "def angularaccelerationsinglependulum(gravitation, length, teta):\n",
    "    \"\"\"Function that return the angular acceleration based on the current angular acceleration, gravitation, and current angle. \\n\n",
    "    Based on the equation alfa=gravitation*sin(teta)/length\n",
    "\n",
    "    Parameters\n",
    "    ----------\n",
    "    gravitation : Float\n",
    "        Global gravitation, common value is 9.8 m/s**2\n",
    "    length : Int\n",
    "        Lenght of the stick\n",
    "    teta : Float\n",
    "        Current angle on rad\n",
    "\n",
    "    Returns\n",
    "    -------\n",
    "    [Float]\n",
    "        Return the calculated angular acceleration on rad/s**2\n",
    "    \"\"\"\n",
    "    return gravitation*sin(teta)/length\n",
    "\n",
    "def angularvelocitysinglependulum(accelerationfunction, deltatime, gravitation, length, omega, teta):\n",
    "    \"\"\"Function that return the next angular velocity based on the current angular acceleration and\n",
    "    current angular velocity. \\n\n",
    "    Based on the equation of omega = currentalfa*timedifference + currentangularvelocity\n",
    "\n",
    "    Parameters\n",
    "    ----------\n",
    "    accelerationfunction : Function\n",
    "        The function for the angular acceleration\n",
    "    deltatime : Float\n",
    "        Time difference between current and next value\n",
    "    gravitation : Float\n",
    "        Global gravitation, common value is 9.8 m/s**2\n",
    "    length : Int\n",
    "        Lenght of the stick\n",
    "    omega : Float\n",
    "        Current angular velocity on rad/s\n",
    "    teta : Float\n",
    "        Current angle on rad\n",
    "\n",
    "    Returns\n",
    "    -------\n",
    "    [Float, Float]\n",
    "        Return the calculated angular acceleration on rad/s**2 and angular velocity on rad/s respectively\n",
    "    \"\"\"\n",
    "    angularaccelerationvalue = accelerationfunction(gravitation, length, teta)\n",
    "    return angularaccelerationvalue, angularaccelerationvalue*deltatime + omega\n",
    "\n",
    "def angularpositionsinglependulum(velocityfunction, accelerationfunction, deltatime, gravitation, length, omega, teta):\n",
    "    \"\"\"Function that return the next angle based on the current angular acceleration, current angular velocity, and current angle. \\n\n",
    "    Based on the equation angle=currentangularacceleration*timedifference**2 + currentangularvelocity*timedifference + currentangle\n",
    "\n",
    "    Parameters\n",
    "    ----------\n",
    "    velocityfunction : Function\n",
    "        The function for the angular velocity\n",
    "    accelerationfunction : Function\n",
    "        The function for the angular acceleration\n",
    "    deltatime : Float\n",
    "        Time difference between current and next value\n",
    "    gravitation : Float\n",
    "        Global gravitation, common value is 9.8 m/s**2\n",
    "    length : Int\n",
    "        Lenght of the stick\n",
    "    omega : Float\n",
    "        Current angular velocity on rad/s\n",
    "    teta : Float\n",
    "        Current angle on rad\n",
    "\n",
    "    Returns\n",
    "    -------\n",
    "    [Float, Float, Float]\n",
    "        Return the calculated angular acceleration on rad/s**2, angular velocity on rad/s, and angular position on rad respectively\n",
    "    \"\"\"\n",
    "    angularaccelerationvalue, angularvelocityvalue = velocityfunction(accelerationfunction, deltatime, gravitation, length, omega, teta)\n",
    "    return  angularaccelerationvalue, angularvelocityvalue, angularvelocityvalue*deltatime + teta\n"
   ],
   "outputs": [],
   "metadata": {}
  },
  {
   "cell_type": "code",
   "execution_count": 3,
   "source": [
    "selectpendulumlength = widgets.BoundedFloatText(\n",
    "    value=7.5,\n",
    "    min=0,\n",
    "    max=10.0,\n",
    "    step=0.1,\n",
    "    description='Pendulum Length:',\n",
    "    disabled=False\n",
    ")\n",
    "\n",
    "selectgravitation = widgets.BoundedFloatText(\n",
    "    value=-9.8,\n",
    "    min=-10,\n",
    "    max=10,\n",
    "    step=0.1,\n",
    "    description='Gravitation:',\n",
    "    disabled=False\n",
    ")\n",
    "\n",
    "selectperiod = widgets.BoundedFloatText(\n",
    "    value=0.1,\n",
    "    min=0.001,\n",
    "    max=0.1,\n",
    "    step=0.001,\n",
    "    description='Period:',\n",
    "    disabled=False\n",
    ")\n",
    "\n",
    "selectinitialangularvelocity = widgets.BoundedFloatText(\n",
    "    value=0,\n",
    "    min=-10,\n",
    "    max=10,\n",
    "    step=0.1,\n",
    "    description='Initial Angular Velocity:',\n",
    "    disabled=False\n",
    ")\n",
    "\n",
    "selectinitialangularposition = widgets.BoundedFloatText(\n",
    "    value=90,\n",
    "    min=0,\n",
    "    max=359,\n",
    "    step=1,\n",
    "    description='Initial Angular Position:',\n",
    "    disabled=False\n",
    ")"
   ],
   "outputs": [],
   "metadata": {}
  },
  {
   "cell_type": "code",
   "execution_count": 4,
   "source": [
    "angularacceleration = []\n",
    "angularvelocity = []\n",
    "angularposition = []\n",
    "currentangularacceleration = 0\n",
    "currentangularvelocity = 0\n",
    "currentangularposition = 0\n",
    "\n",
    "currentangularacceleration, currentangularvelocity, currentangularposition = angularpositionsinglependulum(\n",
    "        angularvelocitysinglependulum, \n",
    "        angularaccelerationsinglependulum, \n",
    "        selectperiod.get_interact_value(), \n",
    "        selectgravitation.get_interact_value(), \n",
    "        selectpendulumlength.get_interact_value(), \n",
    "        selectinitialangularvelocity.get_interact_value(), \n",
    "        radians(selectinitialangularposition.get_interact_value()))\n",
    "\n",
    "fig = plt.figure()\n",
    "ax = plt.axes(xlim=(-2, 2), ylim=(-3, 1))\n",
    "line, = ax.plot([], [], lw=2)\n",
    "\n",
    "def pendulumchart(i=int):\n",
    "    global currentangularacceleration\n",
    "    global currentangularvelocity\n",
    "    global currentangularposition\n",
    "    global angularacceleration\n",
    "    global angularvelocity\n",
    "    global angularposition\n",
    "\n",
    "    currentangularacceleration, currentangularvelocity, currentangularposition = angularpositionsinglependulum(\n",
    "        angularvelocitysinglependulum, \n",
    "        angularaccelerationsinglependulum, \n",
    "        selectperiod.get_interact_value(), \n",
    "        selectgravitation.get_interact_value(), \n",
    "        selectpendulumlength.get_interact_value(), \n",
    "        currentangularvelocity,  \n",
    "        currentangularposition)\n",
    "\n",
    "    angularacceleration.append(currentangularacceleration)\n",
    "    angularvelocity.append(currentangularvelocity)\n",
    "    angularposition.append(currentangularposition)\n",
    "\n",
    "    x, y = positionsinglependulum(selectpendulumlength.get_interact_value(), currentangularposition)\n",
    "    line.set_data([0, x], [0, y])\n",
    "    return line,\n",
    "\n",
    "def positionchart(i=int):\n",
    "    global angularposition\n",
    "    plt.plot(arange(len(angularposition)), angularposition)\n",
    "\n",
    "\n",
    "animator0 = ani.FuncAnimation(fig, pendulumchart, interval = 1//selectperiod.get_interact_value())\n",
    "plt.show()\n",
    "display(selectpendulumlength, selectgravitation, selectinitialangularvelocity, selectperiod, selectinitialangularposition)"
   ],
   "outputs": [
    {
     "output_type": "display_data",
     "data": {
      "text/plain": [
       "Canvas(toolbar=Toolbar(toolitems=[('Home', 'Reset original view', 'home', 'home'), ('Back', 'Back to previous …"
      ],
      "application/vnd.jupyter.widget-view+json": {
       "version_major": 2,
       "version_minor": 0,
       "model_id": "ed7168e37e6b45c3aaf81a0f7912b657"
      }
     },
     "metadata": {}
    },
    {
     "output_type": "display_data",
     "data": {
      "text/plain": [
       "BoundedFloatText(value=7.5, description='Pendulum Length:', max=10.0, step=0.1)"
      ],
      "application/vnd.jupyter.widget-view+json": {
       "version_major": 2,
       "version_minor": 0,
       "model_id": "cfda002519af408b81349c53fbcc9319"
      }
     },
     "metadata": {}
    },
    {
     "output_type": "display_data",
     "data": {
      "text/plain": [
       "BoundedFloatText(value=-9.8, description='Gravitation:', max=10.0, min=-10.0, step=0.1)"
      ],
      "application/vnd.jupyter.widget-view+json": {
       "version_major": 2,
       "version_minor": 0,
       "model_id": "7e7e69d30e5e41ba97eb0bf83188c524"
      }
     },
     "metadata": {}
    },
    {
     "output_type": "display_data",
     "data": {
      "text/plain": [
       "BoundedFloatText(value=0.0, description='Initial Angular Velocity:', max=10.0, min=-10.0, step=0.1)"
      ],
      "application/vnd.jupyter.widget-view+json": {
       "version_major": 2,
       "version_minor": 0,
       "model_id": "589ff73994fe4bac86273617887cea97"
      }
     },
     "metadata": {}
    },
    {
     "output_type": "display_data",
     "data": {
      "text/plain": [
       "BoundedFloatText(value=0.1, description='Period:', max=0.1, min=0.001, step=0.001)"
      ],
      "application/vnd.jupyter.widget-view+json": {
       "version_major": 2,
       "version_minor": 0,
       "model_id": "c1645502481e412db6cefc85a4119a61"
      }
     },
     "metadata": {}
    },
    {
     "output_type": "display_data",
     "data": {
      "text/plain": [
       "BoundedFloatText(value=90.0, description='Initial Angular Position:', max=359.0, step=1.0)"
      ],
      "application/vnd.jupyter.widget-view+json": {
       "version_major": 2,
       "version_minor": 0,
       "model_id": "d0db5344fe0a49a99d3b398c63a83572"
      }
     },
     "metadata": {}
    }
   ],
   "metadata": {}
  },
  {
   "cell_type": "code",
   "execution_count": null,
   "source": [
    "def fungsiTetadotdot(t, teta1, teta2, tetadot1, tetadot2):\n",
    "    m11 = (1/4*m1 + m2)*l1**2 + i1\n",
    "    m12 = 1/2*m2*l1*l2*cos(teta1 - teta2)\n",
    "    m21 = 1/2*m2*l1*l2*cos(teta1 - teta2)\n",
    "    m22 = 1/4*m2*l2**2 + i2\n",
    "\n",
    "    m = ny.zeros((2,2))\n",
    "    m = [[m11, m12], [m21, m22]]\n",
    "\n",
    "    tau = ny.zeros((2,1))\n",
    "\n",
    "    c11 = 1/2*m2*l1*l2*sin(teta1 - teta2)*tetadot2\n",
    "    c12 = -1/2*m2*l1*l2*sin(teta1 - teta2)*(tetadot1 - tetadot2)\n",
    "    c21 = -1/2*m2*l1*l2*sin(teta1 - teta2)*(tetadot1 - tetadot2)\n",
    "    c22 = -1/2*m2*l1*l2*tetadot1*sin(teta1 - teta2)\n",
    "\n",
    "    c = ny.zeros((2,2))\n",
    "    c = [[c11, c12], [c21, c22]]\n",
    "\n",
    "    tetadot = ny.zeros((2,1))\n",
    "    tetadot[0] = tetadot1\n",
    "    tetadot[1] = tetadot2\n",
    "\n",
    "    g11 = (1/2*m1 + m2)*graf*l1*sin(teta1)\n",
    "    g21 = 1/2*m2*graf*l2*sin(teta2)\n",
    "    g = ny.zeros((2,1))\n",
    "    g = [[g11], [g21]]\n",
    "    return Pengurangan(Pengurangan(Perkalian(Invers(m), tau), Perkalian(Perkalian(Invers(m), c), tetadot)), Perkalian(Invers(m), g))\n",
    "\n",
    "def rungeKutta(t, teta1, teta2, tetadot1, tetadot2):\n",
    "    k1 = ny.zeros((2,1))\n",
    "    k2 = ny.zeros((2,1))\n",
    "    k3 = ny.zeros((2,1))\n",
    "    k4 = ny.zeros((2,1))\n",
    "\n",
    "    tetadotdot = fungsiTetadotdot(t, teta1, teta2, tetadot1, tetadot2)\n",
    "    k1[0] = dt/2*tetadotdot[0]\n",
    "    k1[1] = dt/2*tetadotdot[1]\n",
    "\n",
    "    tetadotdot = fungsiTetadotdot(t + dt/2, teta1 + dt/2*(tetadot1 + k1[0]/2), teta2 + dt/2*(tetadot2 + k1[1]/2), tetadot1 + k1[0], tetadot2 + k1[1])\n",
    "    k2[0] = dt/2*tetadotdot[0]\n",
    "    k2[1] = dt/2*tetadotdot[1]\n",
    "\n",
    "    tetadotdot = fungsiTetadotdot(t + dt/2, teta1 + dt/2*(tetadot1 + k1[0]/2), teta2 + dt/2*(tetadot2 + k1[1]/2), tetadot1 + k2[0], tetadot2 + k2[1])\n",
    "    k3[0] = dt/2*tetadotdot[0]\n",
    "    k3[1] = dt/2*tetadotdot[1]\n",
    "\n",
    "    tetadotdot = fungsiTetadotdot(t + dt, teta1 + dt*(tetadot1 + k3[0]), teta2 + dt*(tetadot2 + k3[1]), tetadot1 + 2*k3[0], tetadot2 + 2*k3[1])\n",
    "    k4[0] = dt/2*tetadotdot[0]\n",
    "    k4[1] = dt/2*tetadotdot[1]\n",
    "\n",
    "    teta1baru = teta1 + dt*(tetadot1 + ((k1[0] + k2[0] + k3[0])/3))\n",
    "    teta2baru = teta2 + dt*(tetadot2 + ((k1[1] + k2[1] + k3[1])/3))\n",
    "\n",
    "    tetadot1baru = tetadot1 + (k1[0] + 2*k2[0] + 2*k3[0] + k4[0])/3\n",
    "    tetadot2baru = tetadot2 + (k1[1] + 2*k2[1] + 2*k3[1] + k4[1])/3\n",
    "\n",
    "    return teta1baru, teta2baru, tetadot1baru, tetadot2baru"
   ],
   "outputs": [],
   "metadata": {}
  },
  {
   "cell_type": "code",
   "execution_count": null,
   "source": [
    "def gambarGaris(teta1, teta2, x1,y1, x2, y2, titikx1, titiky1, titikx2, titiky2):\n",
    "    x0 = 0\n",
    "    y0 = 0\n",
    "    garis1x, garis1y = [x0, x1], [y0, y1]\n",
    "    garis2x, garis2y = [x1, x2], [y1, y2]\n",
    "\n",
    "    ax = fig.add_subplot(224)\n",
    "    plt.plot(dt*i, teta1*180, '_')\n",
    "    plt.xlabel('waktu')\n",
    "    plt.ylabel('teta1')\n",
    "    ax = fig.add_subplot(223)\n",
    "    plt.plot(dt * i, teta2 * 180, '_')\n",
    "    plt.xlabel('waktu')\n",
    "    plt.ylabel('teta2')\n",
    "    ay = fig.add_subplot(211)\n",
    "    plt.xlim(-3,3)\n",
    "    plt.ylim(-3,0)\n",
    "    plt.scatter(titikx1, titiky1)\n",
    "    plt.scatter(titikx2, titiky2)\n",
    "    plt.plot(garis1x, garis1y, marker='o')\n",
    "    plt.plot(garis2x, garis2y, marker='o')\n",
    "    plt.pause(dt)\n",
    "    ay.cla()"
   ],
   "outputs": [],
   "metadata": {}
  }
 ],
 "metadata": {
  "orig_nbformat": 4,
  "language_info": {
   "name": "python",
   "version": "3.8.10",
   "mimetype": "text/x-python",
   "codemirror_mode": {
    "name": "ipython",
    "version": 3
   },
   "pygments_lexer": "ipython3",
   "nbconvert_exporter": "python",
   "file_extension": ".py"
  },
  "kernelspec": {
   "name": "python3",
   "display_name": "Python 3.8.10 64-bit"
  },
  "interpreter": {
   "hash": "916dbcbb3f70747c44a77c7bcd40155683ae19c65e1c03b4aa3499c5328201f1"
  }
 },
 "nbformat": 4,
 "nbformat_minor": 2
}