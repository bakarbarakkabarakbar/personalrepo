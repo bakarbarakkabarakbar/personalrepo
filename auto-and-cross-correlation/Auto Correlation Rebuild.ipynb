{
    "cells": [
        {
            "cell_type": "code",
            "execution_count": null,
            "source": [
                "import matplotlib.pyplot as plt\n",
                "from numpy import arange, exp, pi, zeros, correlate, array\n",
                "from scipy.signal import find_peaks\n",
                "%matplotlib widget"
            ],
            "outputs": [],
            "metadata": {}
        },
        {
            "cell_type": "code",
            "execution_count": null,
            "source": [
                "def autocorrelation(type, data):\n",
                "    \"\"\"Doing correlation to the signal itself using designed mathematics equation. Time shifted to the length of data.\n",
                "\n",
                "    Parameters\n",
                "    ----------\n",
                "    type : String\n",
                "        Function type: normal for using the direct correlation, inversefourier using magnitude spectrum\n",
                "    data : 1D array\n",
                "        Input of the function, data signal\n",
                "\n",
                "    Returns\n",
                "    -------\n",
                "    1D array\n",
                "        Return of the autocorrelation\n",
                "    \"\"\"\n",
                "    result = array(zeros(len(data)), dtype=complex)\n",
                "    magnitudespectrum = array(zeros(len(data)), dtype=complex)\n",
                "    if type == \"normal\":\n",
                "        return [x/len(data) for x in correlate(data, data, mode=\"same\")]\n",
                "    elif type == \"inversefourier\":\n",
                "        for i in range(len(data)):\n",
                "            for j in range(len(data)):\n",
                "                magnitudespectrum[i] += (data[j]**2)*exp(-2j*pi*i*j/len(data))\n",
                "        # magnitudespectrum = data\n",
                "        \n",
                "        for i in range(len(data)):\n",
                "            for j in range(len(data)):\n",
                "                result[i] += (magnitudespectrum[j]**2)*exp(2j*pi*i*j/len(magnitudespectrum))\n",
                "            result[i] = result[i]/len(magnitudespectrum)\n",
                "        return result\n",
                "    else: raise Exception(\"Please check the available type!\") "
            ],
            "outputs": [],
            "metadata": {}
        },
        {
            "cell_type": "code",
            "execution_count": null,
            "source": [
                "def crosscorrelation(firstdata, seconddata):\n",
                "    \"\"\"Doing correlation on two signal using designed mathematical equation. Time shifted to the first signal. \n",
                "\n",
                "    Parameters\n",
                "    ----------\n",
                "    firstdata : 1D Array\n",
                "        Base signal for correlation. The signal that doesn't move on the line.\n",
                "    seconddata : 1D Array\n",
                "        Signal for the correlation, signal move across the first signal.\n",
                "\n",
                "    Returns\n",
                "    -------\n",
                "    1D Array\n",
                "        Return of the function with length of the first signal.\n",
                "    \"\"\"\n",
                "    result=zeros(len(firstdata))\n",
                "\n",
                "    for i in range(len(firstdata)):\n",
                "        for j in range(len(seconddata)):\n",
                "            if i + j >= len(firstdata):\n",
                "                break\n",
                "            result[i]=result[i]+abs(result[i]+firstdata[i]*seconddata[j]*exp(2j*pi*i*j/len(firstdata)))\n",
                "        result[i]=abs(result[i])/len(firstdata)\n",
                "\n",
                "    return result"
            ],
            "outputs": [],
            "metadata": {}
        },
        {
            "cell_type": "code",
            "execution_count": null,
            "source": [
                "def ecgpeakfinding(type, data):\n",
                "    \"\"\"Finding the peak position of the electrocardiogram signal based on the correlation mathematical function method.\n",
                "\n",
                "    Parameters\n",
                "    ----------\n",
                "    type : String\n",
                "        Function type: normal for using the direct correlation, inversefourier using magnitude spectrum\n",
                "    data : 1D Array\n",
                "        Input array of electrocardiogram signal\n",
                "\n",
                "    Returns\n",
                "    -------\n",
                "    Tuple [1D Array, 1D Array]\n",
                "        Return the peak position and the peak value of the electrocardiogram signal.\n",
                "    \"\"\"\n",
                "    correlation = autocorrelation(type, data)\n",
                "    peakposition = find_peaks(correlation, distance=100, height=0.1)[0]\n",
                "\n",
                "    peakvalue = [correlation[i] for i in peakposition]\n",
                "    return peakposition, peakvalue"
            ],
            "outputs": [],
            "metadata": {}
        },
        {
            "cell_type": "code",
            "execution_count": null,
            "source": [
                "def onchangeselectfirstsignal():\n",
                "    pass\n",
                "\n",
                "def onchangeselectsecondsignal():\n",
                "    pass"
            ],
            "outputs": [],
            "metadata": {}
        },
        {
            "cell_type": "code",
            "execution_count": null,
            "source": [
                "texts0 = [[], []] # X(sequence) and Y(ecg signal) value\n",
                "\n",
                "with open(\"/home/muhammadakbarmaulana/project-release/auto-and-cross-correlation/ECG Non-Filtered 1000 Data.txt\", \"r\") as file:\n",
                "  textfile = file.readlines()\n",
                "\n",
                "\n",
                "texts0[0] = arange(len(textfile))\n",
                "\n",
                "for text in textfile: \n",
                "  texts0[1].append(float(text.replace(\"\\n\", \"\")))\n",
                "\n",
                "fig = plt.figure()\n",
                "ax0 = fig.add_axes([0.1,0.1,0.85,0.85], xlabel=\"sequence\", ylabel=\"amplitude\", title=\"ElectroCardioGram Signal\")\n",
                "ax0.plot(texts0[0], texts0[1])\n",
                "plt.show()"
            ],
            "outputs": [],
            "metadata": {}
        },
        {
            "cell_type": "code",
            "execution_count": null,
            "source": [
                "texts1 = [[], []] # X(sequence) and Y(ecg signal) value\n",
                "\n",
                "with open(\"/home/muhammadakbarmaulana/project-release/auto-and-cross-correlation/ECG Non-Filtered 1000 Data.txt\", \"r\") as file:\n",
                "  textfile = file.readlines()\n",
                "\n",
                "\n",
                "texts1[0] = arange(len(textfile))\n",
                "\n",
                "for text in textfile: \n",
                "  texts1[1].append(float(text.replace(\"\\n\", \"\")))\n",
                "\n",
                "fig = plt.figure()\n",
                "ax0 = fig.add_axes([0.1,0.1,0.85,0.85], xlabel=\"sequence\", ylabel=\"amplitude\", title=\"ElectroCardioGram Signal\")\n",
                "ax0.plot(texts1[0], texts1[1])\n",
                "plt.show()"
            ],
            "outputs": [],
            "metadata": {}
        },
        {
            "cell_type": "code",
            "execution_count": null,
            "source": [
                "fig = plt.figure()\n",
                "ax0 = fig.add_axes([0.1,0.1,0.85,0.85], xlabel=\"sequence\", ylabel=\"amplitude\", title=\"Auto Correlation\")\n",
                "ax0.plot(texts0[0], texts0[1], label=\"ECG Signal\")\n",
                "ax0.legend()\n",
                "ax1 = ax0.twinx()\n",
                "ax1.set_ylabel(ylabel=\"amplitude\")\n",
                "ax1.plot(texts0[0], [abs(x) for x in autocorrelation(\"inversefourier\", texts0[1])], label=\"Inverse Fourier\", color=\"green\")\n",
                "ax1.legend()\n",
                "plt.show()"
            ],
            "outputs": [],
            "metadata": {}
        },
        {
            "cell_type": "code",
            "execution_count": null,
            "source": [
                "fig = plt.figure()\n",
                "result = correlate(texts0[1], [x/len(texts0[1]) for x in texts0[1]], mode=\"full\")[:1000]\n",
                "ax0 = fig.add_axes([0.1,0.1,0.85,0.85], xlabel=\"sequence\", ylabel=\"amplitude\")\n",
                "ax0.plot(arange(len(result)), result, label=\"Correlated Signal\")\n",
                "ax0.legend()\n",
                "plt.show()"
            ],
            "outputs": [],
            "metadata": {}
        },
        {
            "cell_type": "code",
            "execution_count": null,
            "source": [
                "from pathlib import Path\n",
                "from os import listdir\n",
                "print(\"File      Path: {}\".format(Path().resolve()))\n",
                "print(\"Directory Path: {}\".format(Path().absolute()))\n",
                "files = listdir(Path().absolute())\n",
                "for f in files:\n",
                "\tprint(f)"
            ],
            "outputs": [],
            "metadata": {}
        },
        {
            "cell_type": "code",
            "execution_count": null,
            "source": [
                "import ipywidgets as widgets\n",
                "from IPython.display import display\n",
                "\n",
                "print(\"Please select the same data length for first and second signal\")\n",
                "\n",
                "selectfirstsignal = widgets.Select(\n",
                "    options=files,\n",
                "    description='Select First File:',\n",
                "    disabled=False\n",
                ")\n",
                "\n",
                "firstsignallength = widgets.Text(value='0', disabled=True)\n",
                "\n",
                "selectsecondsignal = widgets.Select(\n",
                "    options=files,\n",
                "    description='Select Second File:',\n",
                "    disabled=False\n",
                ")\n",
                "\n",
                "secondsignallength = widgets.Text(value=\"0\", disabled=True)\n",
                "\n",
                "selectfirstsignal.observe(onchangeselectfirstsignal)\n",
                "selectsecondsignal.observe(onchangeselectsecondsignal)\n",
                "\n",
                "display(selectfirstsignal, firstsignallength, selectsecondsignal, secondsignallength)"
            ],
            "outputs": [],
            "metadata": {}
        }
    ],
    "metadata": {
        "orig_nbformat": 4,
        "language_info": {
            "name": "python",
            "version": "3.8.10",
            "mimetype": "text/x-python",
            "codemirror_mode": {
                "name": "ipython",
                "version": 3
            },
            "pygments_lexer": "ipython3",
            "nbconvert_exporter": "python",
            "file_extension": ".py"
        },
        "kernelspec": {
            "name": "python3",
            "display_name": "Python 3.8.10 64-bit"
        },
        "interpreter": {
            "hash": "916dbcbb3f70747c44a77c7bcd40155683ae19c65e1c03b4aa3499c5328201f1"
        }
    },
    "nbformat": 4,
    "nbformat_minor": 2
}