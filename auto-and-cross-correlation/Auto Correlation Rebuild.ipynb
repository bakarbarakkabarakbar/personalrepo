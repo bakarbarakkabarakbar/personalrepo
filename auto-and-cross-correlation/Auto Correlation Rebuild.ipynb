{
    "cells": [
        {
            "cell_type": "code",
            "execution_count": 1,
            "metadata": {},
            "outputs": [],
            "source": [
                "import matplotlib.pyplot as plt\n",
                "from numpy import arange, zeros\n",
                "from pathlib import Path\n",
                "from os import listdir\n",
                "import ipywidgets as widgets\n",
                "from IPython.display import display\n",
                "from dependencies import auto_correlation, cross_correlation\n",
                "%matplotlib widget\n",
                "\n",
                "\n",
                "def on_change_select_first_signal(change):\n",
                "    with out:\n",
                "        texts0 = [[], []] # X(sequence) and Y(ecg signal) value\n",
                "        with open(select_first_signal.get_interact_value(), \"r\") as file:\n",
                "            text_file = file.readlines()\n",
                "        texts0[0] = arange(len(text_file))\n",
                "        try:\n",
                "            for text in text_file: \n",
                "                texts0[1].append(float(text.replace(\"\\n\", \"\")))\n",
                "        except ValueError:\n",
                "            print(\"Please select single column data file.\")\n",
                "            return\n",
                "        fig0_ax0.clear()\n",
                "        fig0_ax0.plot(texts0[0], texts0[1], label=\"first signal\")\n",
                "        fig0.legend()\n",
                "        first_signal_length.value = f\"{len(texts0[0])}\"\n",
                "        \n",
                "        \n",
                "def on_change_select_second_signal(change):\n",
                "    with out:\n",
                "        texts0 = [[], []] # X(sequence) and Y(ecg signal) value\n",
                "        with open(select_second_signal.get_interact_value(), \"r\") as file:\n",
                "            text_file = file.readlines()\n",
                "        texts0[0] = arange(len(text_file))\n",
                "        try:\n",
                "            for text in text_file: \n",
                "                texts0[1].append(float(text.replace(\"\\n\", \"\")))\n",
                "        except ValueError:\n",
                "            print(\"Please select single column data file.\")\n",
                "            return\n",
                "        fig0_ax1.clear()\n",
                "        fig0_ax1.plot(texts0[0], texts0[1], color=\"green\", label=\"second signal\")\n",
                "        fig0.legend()\n",
                "        second_signal_length.value = f\"{len(texts0[0])}\"\n",
                "        \n",
                "        \n",
                "def on_change_time_lag(change):\n",
                "    with out:\n",
                "        texts2 = [[], []] # X(sequence) and Y(ecg signal) time lagged value\n",
                "        texts2[0] = texts1[0]\n",
                "        texts2[1] = zeros(len(texts1[1]))\n",
                "        time_lag = select_time_lag.get_interact_value()\n",
                "        if time_lag > 0:\n",
                "            for x in range(time_lag, len(texts2[1])):\n",
                "                texts2[1][x] = texts1[1][x - time_lag]\n",
                "        elif time_lag < 0:\n",
                "            for x in range(abs(time_lag), len(texts2[1])):\n",
                "                texts2[1][x - abs(time_lag)] = texts1[1][x]\n",
                "        else:\n",
                "            texts2[1] = texts1[1]\n",
                "        fig2_ax1.clear()\n",
                "        fig3_ax0.clear()\n",
                "        fig2_ax1.plot(texts2[0], texts2[1], color=\"green\")\n",
                "        fig3_ax0.plot([x - (len(texts0[0]))//2 for x in texts0[0]], cross_correlation(\"normal\", texts0[1], texts2[1]), label=\"Correlated Signal\")"
            ]
        },
        {
            "cell_type": "code",
            "execution_count": 2,
            "metadata": {},
            "outputs": [
                {
                    "name": "stdout",
                    "output_type": "stream",
                    "text": [
                        "Please select the same data length for first and second signal\n"
                    ]
                },
                {
                    "data": {
                        "application/vnd.jupyter.widget-view+json": {
                            "model_id": "08937991d0e348168c189707fa8c6f73",
                            "version_major": 2,
                            "version_minor": 0
                        },
                        "text/plain": [
                            "HBox(children=(VBox(children=(Select(description='Select First File:', options=('Reflected Sinus 10 Hz 512 Dat…"
                        ]
                    },
                    "metadata": {},
                    "output_type": "display_data"
                },
                {
                    "data": {
                        "application/vnd.jupyter.widget-view+json": {
                            "model_id": "6774aee6b3b84985877a12b4e75d2c6b",
                            "version_major": 2,
                            "version_minor": 0
                        },
                        "text/plain": [
                            "Canvas(toolbar=Toolbar(toolitems=[('Home', 'Reset original view', 'home', 'home'), ('Back', 'Back to previous …"
                        ]
                    },
                    "metadata": {},
                    "output_type": "display_data"
                }
            ],
            "source": [
                "print(\"Please select the same data length for first and second signal\")\n",
                "files = listdir(Path().absolute())\n",
                "\n",
                "select_first_signal = widgets.Select(\n",
                "    options=files,\n",
                "    description='Select First File:',\n",
                "    disabled=False\n",
                ")\n",
                "\n",
                "first_signal_length = widgets.Text(value='0', disabled=True)\n",
                "\n",
                "select_second_signal = widgets.Select(\n",
                "    options=files,\n",
                "    description='Select Second File:',\n",
                "    disabled=False\n",
                ")\n",
                "\n",
                "second_signal_length = widgets.Text(value=\"0\", disabled=True)\n",
                "out = widgets.Output()\n",
                "vertical_box_1 = widgets.VBox([select_first_signal, first_signal_length])\n",
                "vertical_box_2 = widgets.VBox([select_second_signal, second_signal_length])\n",
                "horizontal_box = widgets.HBox([vertical_box_1, vertical_box_2])\n",
                "\n",
                "select_first_signal.observe(on_change_select_first_signal)\n",
                "select_second_signal.observe(on_change_select_second_signal)\n",
                "\n",
                "display(horizontal_box)\n",
                "\n",
                "fig0 = plt.figure()\n",
                "fig0_ax0 = fig0.add_axes([0.1,0.1,0.85,0.85], xlabel=\"sequence\", ylabel=\"amplitude\")\n",
                "fig0_ax1 = fig0_ax0.twinx()\n",
                "fig0_ax1.set_ylabel(ylabel=\"amplitude\")\n",
                "plt.show()"
            ]
        },
        {
            "cell_type": "code",
            "execution_count": 3,
            "metadata": {},
            "outputs": [],
            "source": [
                "texts0 = [[], []] # X(sequence) and Y(ecg signal) value\n",
                "texts1 = [[], []] # X(sequence) and Y(ecg signal) value\n",
                "\n",
                "with open(select_first_signal.get_interact_value(), \"r\") as file:\n",
                "    text_file = file.readlines()\n",
                "    \n",
                "texts0[0] = arange(len(text_file))\n",
                "\n",
                "for text in text_file: \n",
                "    texts0[1].append(float(text.replace(\"\\n\", \"\")))\n",
                "\n",
                "with open(select_second_signal.get_interact_value(), \"r\") as file:\n",
                "    text_file = file.readlines()\n",
                "    \n",
                "texts1[0] = arange(len(text_file))\n",
                "\n",
                "for text in text_file: \n",
                "    texts1[1].append(float(text.replace(\"\\n\", \"\")))\n"
            ]
        },
        {
            "cell_type": "code",
            "execution_count": null,
            "metadata": {},
            "outputs": [],
            "source": [
                "fig1 = plt.figure()\n",
                "fig1_ax0 = fig1.add_axes([0.1,0.1,0.85,0.85], xlabel=\"sequence\", ylabel=\"amplitude\", title=\"Auto Correlation\")\n",
                "fig1_ax0.plot(texts0[0], [abs(x) for x in auto_correlation(\"normal\", texts0[1])], label=\"Phase Shift\")\n",
                "fig1_ax0.legend()\n",
                "fig1_ax1 = fig1_ax0.twinx()\n",
                "fig1_ax1.set_ylabel(ylabel=\"amplitude\")\n",
                "fig1_ax1.plot(texts0[0], [abs(x) for x in auto_correlation(\"inversefourier\", texts0[1])], label=\"Inverse Fourier\", color=\"green\")\n",
                "fig1_ax1.legend()\n",
                "plt.show()"
            ]
        },
        {
            "cell_type": "code",
            "execution_count": 5,
            "metadata": {},
            "outputs": [
                {
                    "data": {
                        "application/vnd.jupyter.widget-view+json": {
                            "model_id": "b22e48fa7add468eb7628a6b74c8680d",
                            "version_major": 2,
                            "version_minor": 0
                        },
                        "text/plain": [
                            "IntSlider(value=0, continuous_update=False, description='Time Lag:', max=512, min=-512)"
                        ]
                    },
                    "metadata": {},
                    "output_type": "display_data"
                },
                {
                    "data": {
                        "application/vnd.jupyter.widget-view+json": {
                            "model_id": "908e00bc73024e49a382d6b7af21447b",
                            "version_major": 2,
                            "version_minor": 0
                        },
                        "text/plain": [
                            "Output()"
                        ]
                    },
                    "metadata": {},
                    "output_type": "display_data"
                },
                {
                    "data": {
                        "application/vnd.jupyter.widget-view+json": {
                            "model_id": "0b847403d47147548d3e1c32680eb7e1",
                            "version_major": 2,
                            "version_minor": 0
                        },
                        "text/plain": [
                            "Canvas(toolbar=Toolbar(toolitems=[('Home', 'Reset original view', 'home', 'home'), ('Back', 'Back to previous …"
                        ]
                    },
                    "metadata": {},
                    "output_type": "display_data"
                },
                {
                    "data": {
                        "application/vnd.jupyter.widget-view+json": {
                            "model_id": "7928a125ea65431aaaf5b27eafd218ff",
                            "version_major": 2,
                            "version_minor": 0
                        },
                        "text/plain": [
                            "Canvas(toolbar=Toolbar(toolitems=[('Home', 'Reset original view', 'home', 'home'), ('Back', 'Back to previous …"
                        ]
                    },
                    "metadata": {},
                    "output_type": "display_data"
                }
            ],
            "source": [
                "select_time_lag = widgets.IntSlider(\n",
                "    value=0,\n",
                "    min=-(len(texts1[0]//2)),\n",
                "    max=len(texts1[0]//2),\n",
                "    step=1,\n",
                "    description='Time Lag:',\n",
                "    disabled=False,\n",
                "    continuous_update=False,\n",
                "    orientation='horizontal',\n",
                "    readout=True,\n",
                "    readout_format='d'\n",
                ")\n",
                "\n",
                "out = widgets.Output()\n",
                "\n",
                "display(select_time_lag, out)\n",
                "select_time_lag.observe(on_change_time_lag)\n",
                "\n",
                "fig2 = plt.figure()\n",
                "fig2_ax0 = fig2.add_axes([0.1,0.1,0.85,0.85], xlabel=\"sequence\", ylabel=\"amplitude\")\n",
                "fig2_ax0.plot(texts0[0], texts0[1])\n",
                "fig2_ax1 = fig2_ax0.twinx()\n",
                "fig2_ax1.plot(texts1[0], texts1[1], color=\"green\")\n",
                "fig2_ax1.set_ylabel(ylabel=\"amplitude\")\n",
                "\n",
                "fig3 = plt.figure()\n",
                "fig3_ax0 = fig3.add_axes([0.1,0.1,0.85,0.85], xlabel=\"sequence\", ylabel=\"amplitude\")\n",
                "fig3_ax0.plot([x - (len(texts0[0]))//2 for x in texts0[0]], cross_correlation(\"normal\", texts0[1], texts1[1]), label=\"Correlated Signal\")\n",
                "fig3_ax0.legend()\n",
                "plt.show()"
            ]
        }
    ],
    "metadata": {
        "interpreter": {
            "hash": "916dbcbb3f70747c44a77c7bcd40155683ae19c65e1c03b4aa3499c5328201f1"
        },
        "kernelspec": {
            "display_name": "Python 3.8.10 64-bit",
            "name": "python3"
        },
        "language_info": {
            "codemirror_mode": {
                "name": "ipython",
                "version": 3
            },
            "file_extension": ".py",
            "mimetype": "text/x-python",
            "name": "python",
            "nbconvert_exporter": "python",
            "pygments_lexer": "ipython3",
            "version": "3.8.10"
        },
        "orig_nbformat": 4
    },
    "nbformat": 4,
    "nbformat_minor": 2
}
