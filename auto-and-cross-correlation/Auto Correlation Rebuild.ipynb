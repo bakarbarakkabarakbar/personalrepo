{
    "cells": [
        {
            "cell_type": "code",
            "execution_count": 57,
            "source": [
                "import matplotlib.pyplot as plt\n",
                "from numpy import arange, exp, pi, zeros, correlate\n",
                "from scipy.signal import find_peaks\n",
                "%matplotlib widget"
            ],
            "outputs": [],
            "metadata": {}
        },
        {
            "cell_type": "code",
            "execution_count": 2,
            "source": [
                "def autocorrelation(data):\n",
                "    \"\"\"Doing correlation to the signal itself using designed mathematics equation. Time shifted to the length of data.\n",
                "\n",
                "    Parameters\n",
                "    ----------\n",
                "    data : 1D array\n",
                "        Input of the function, data signal\n",
                "\n",
                "    Returns\n",
                "    -------\n",
                "    1D array\n",
                "        Return of the autocorrelation\n",
                "    \"\"\"\n",
                "    result=zeros(len(data))\n",
                "\n",
                "    for i in range(len(data)):\n",
                "        for j in range(len(data)):\n",
                "            if i + j >= len(data):\n",
                "                break\n",
                "            result[i]=result[i]+abs((data[i]**2)*exp(2j*pi*i*j/len(data)))\n",
                "        result[i]=abs(result[i])/len(data)\n",
                "\n",
                "    return result"
            ],
            "outputs": [],
            "metadata": {}
        },
        {
            "cell_type": "code",
            "execution_count": 3,
            "source": [
                "def crosscorrelation(firstdata, seconddata):\n",
                "    \"\"\"Doing correlation on two signal using designed mathematical equation. Time shifted to the first signal. \n",
                "\n",
                "    Parameters\n",
                "    ----------\n",
                "    firstdata : 1D Array\n",
                "        Base signal for correlation. The signal that doesn't move on the line.\n",
                "    seconddata : 1D Array\n",
                "        Signal for the correlation, signal move across the first signal.\n",
                "\n",
                "    Returns\n",
                "    -------\n",
                "    1D Array\n",
                "        Return of the function with length of the first signal.\n",
                "    \"\"\"\n",
                "    result=zeros(len(firstdata))\n",
                "\n",
                "    for i in range(len(firstdata)):\n",
                "        for j in range(len(seconddata)):\n",
                "            if i + j >= len(firstdata):\n",
                "                break\n",
                "            result[i]=result[i]+abs(result[i]+firstdata[i]*seconddata[j]*exp(2j*pi*i*j/len(firstdata)))\n",
                "        result[i]=abs(result[i])/len(firstdata)\n",
                "\n",
                "    return result"
            ],
            "outputs": [],
            "metadata": {}
        },
        {
            "cell_type": "code",
            "execution_count": 4,
            "source": [
                "def ecgpeakfinding(data):\n",
                "    \"\"\"Finding the peak position of the electrocardiogram signal based on the correlation mathematical function method.\n",
                "\n",
                "    Parameters\n",
                "    ----------\n",
                "    data : 1D Array\n",
                "        Input array of electrocardiogram signal\n",
                "\n",
                "    Returns\n",
                "    -------\n",
                "    Tuple [1D Array, 1D Array]\n",
                "        Return the peak position and the peak value of the electrocardiogram signal.\n",
                "    \"\"\"\n",
                "    correlation = autocorrelation(data)\n",
                "    peakposition=find_peaks(correlation, distance=100, height=0.1)[0]\n",
                "\n",
                "    peakvalue = [correlation[i] for i in peakposition]\n",
                "    return peakposition, peakvalue"
            ],
            "outputs": [],
            "metadata": {}
        },
        {
            "cell_type": "code",
            "execution_count": 5,
            "source": [
                "texts = [[], []] # X(sequence) and Y(ecg signal) value\n",
                "\n",
                "with open(\"/home/muhammadakbarmaulana/project-release/auto-and-cross-correlation/ECG Non-Filtered 1000 Data.txt\", \"r\") as file:\n",
                "  textfile = file.readlines()\n",
                "\n",
                "\n",
                "texts[0] = arange(len(textfile))\n",
                "\n",
                "for text in textfile: \n",
                "  texts[1].append(float(text.replace(\"\\n\", \"\")))"
            ],
            "outputs": [],
            "metadata": {}
        },
        {
            "cell_type": "code",
            "execution_count": 6,
            "source": [
                "fig = plt.figure()\n",
                "ax0 = fig.add_axes([0.1,0.1,0.85,0.85], xlabel=\"sequence\", ylabel=\"amplitude\", title=\"ElectroCardioGram Signal\")\n",
                "ax0.plot(texts[0], texts[1])\n",
                "plt.show()"
            ],
            "outputs": [
                {
                    "output_type": "display_data",
                    "data": {
                        "text/plain": [
                            "Canvas(toolbar=Toolbar(toolitems=[('Home', 'Reset original view', 'home', 'home'), ('Back', 'Back to previous …"
                        ],
                        "application/vnd.jupyter.widget-view+json": {
                            "version_major": 2,
                            "version_minor": 0,
                            "model_id": "8a243822e20f4a33a22a3cfca85910b6"
                        }
                    },
                    "metadata": {}
                }
            ],
            "metadata": {}
        },
        {
            "cell_type": "code",
            "execution_count": 68,
            "source": [
                "fig = plt.figure()\n",
                "ax0 = fig.add_axes([0.1,0.1,0.85,0.85], xlabel=\"sequence\", ylabel=\"amplitude\", title=\"Auto Correlation\")\n",
                "ax0.plot(texts[0], texts[1], label=\"ECG Signal\")\n",
                "ax0.plot(texts[0], autocorrelation(texts[1]), label=\"Correlated Signal\")\n",
                "ax0.legend()\n",
                "ax1 = ax0.twinx()\n",
                "ax1.set_ylabel(ylabel=\"amplitude\")\n",
                "ax1.plot(texts[0], correlate(texts[1], texts[1], mode=\"same\"), label=\"Correlated Signal 2\", color=\"green\")\n",
                "ax1.legend()\n",
                "plt.show()"
            ],
            "outputs": [
                {
                    "output_type": "display_data",
                    "data": {
                        "text/plain": [
                            "Canvas(toolbar=Toolbar(toolitems=[('Home', 'Reset original view', 'home', 'home'), ('Back', 'Back to previous …"
                        ],
                        "application/vnd.jupyter.widget-view+json": {
                            "version_major": 2,
                            "version_minor": 0,
                            "model_id": "ab41b32cb3ae4916ae8fdea93c07741a"
                        }
                    },
                    "metadata": {}
                }
            ],
            "metadata": {}
        },
        {
            "cell_type": "code",
            "execution_count": null,
            "source": [],
            "outputs": [],
            "metadata": {}
        }
    ],
    "metadata": {
        "orig_nbformat": 4,
        "language_info": {
            "name": "python",
            "version": "3.8.10",
            "mimetype": "text/x-python",
            "codemirror_mode": {
                "name": "ipython",
                "version": 3
            },
            "pygments_lexer": "ipython3",
            "nbconvert_exporter": "python",
            "file_extension": ".py"
        },
        "kernelspec": {
            "name": "python3",
            "display_name": "Python 3.8.10 64-bit"
        },
        "interpreter": {
            "hash": "916dbcbb3f70747c44a77c7bcd40155683ae19c65e1c03b4aa3499c5328201f1"
        }
    },
    "nbformat": 4,
    "nbformat_minor": 2
}