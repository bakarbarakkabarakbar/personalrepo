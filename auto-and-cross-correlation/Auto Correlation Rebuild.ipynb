{
    "cells": [
        {
            "cell_type": "code",
            "execution_count": 3,
            "source": [
                "import matplotlib.pyplot as plt\n",
                "from numpy import arange, exp, pi, zeros, correlate, array\n",
                "from scipy.signal import find_peaks\n",
                "from pathlib import Path\n",
                "from os import listdir\n",
                "import ipywidgets as widgets\n",
                "from IPython.display import display\n",
                "%matplotlib widget"
            ],
            "outputs": [],
            "metadata": {}
        },
        {
            "cell_type": "code",
            "execution_count": 4,
            "source": [
                "def auto_correlation(type, data):\n",
                "    \"\"\"Doing correlation to the signal itself using designed mathematics equation. Time shifted to the length of data.\n",
                "\n",
                "    Parameters\n",
                "    ----------\n",
                "    type : String\n",
                "        Function type: normal for using the direct correlation, inversefourier using magnitude spectrum\n",
                "    data : 1D array\n",
                "        Input of the function, data signal\n",
                "\n",
                "    Returns\n",
                "    -------\n",
                "    1D array\n",
                "        Return of the autocorrelation\n",
                "    \"\"\"\n",
                "    result = array(zeros(len(data)), dtype=complex)\n",
                "    magnitude_spectrum = array(zeros(len(data)), dtype=complex)\n",
                "    if type == \"normal\":\n",
                "        return [x/len(data) for x in correlate(data, data, mode=\"same\")]\n",
                "    elif type == \"inversefourier\":\n",
                "        for i in range(len(data)):\n",
                "            for j in range(len(data)):\n",
                "                magnitude_spectrum[i] += (data[j]**2)*exp(-2j*pi*i*j/len(data))\n",
                "        \n",
                "        for i in range(len(data)):\n",
                "            for j in range(len(data)):\n",
                "                result[i] += (magnitude_spectrum[j]**2)*exp(2j*pi*i*j/len(magnitude_spectrum))\n",
                "            result[i] = result[i]/len(magnitude_spectrum)\n",
                "        return result\n",
                "    else: raise Exception(\"Please check the available type!\") "
            ],
            "outputs": [],
            "metadata": {}
        },
        {
            "cell_type": "code",
            "execution_count": 6,
            "source": [
                "def cross_correlation(type, first_data, second_data):\n",
                "    \"\"\"Doing correlation on two signal using designed mathematical equation. Time shifted to the first signal. \n",
                "\n",
                "    Parameters\n",
                "    ----------\n",
                "    type : String\n",
                "        Function type: normal for using the direct correlation, inversefourier using magnitude spectrum\n",
                "    firstdata : 1D Array\n",
                "        Base signal for correlation. The signal that doesn't move on the line.\n",
                "    seconddata : 1D Array\n",
                "        Signal for the correlation, signal move across the first signal.\n",
                "\n",
                "    Returns\n",
                "    -------\n",
                "    1D Array\n",
                "        Return of the function with length of the first signal.\n",
                "    \"\"\"\n",
                "\n",
                "    if len(first_data) != len(second_data):\n",
                "        raise Exception(\"Please select the same length of the first and second data!\")\n",
                "\n",
                "    data_length = len(first_data)\n",
                "\n",
                "    if type == \"normal\":\n",
                "        return [x/data_length for x in correlate(first_data, second_data, mode=\"same\")]"
            ],
            "outputs": [],
            "metadata": {}
        },
        {
            "cell_type": "code",
            "execution_count": 8,
            "source": [
                "def ecg_peak_finding(type, data):\n",
                "    \"\"\"Finding the peak position of the electrocardiogram signal based on the correlation mathematical function method.\n",
                "\n",
                "    Parameters\n",
                "    ----------\n",
                "    type : String\n",
                "        Function type: normal for using the direct correlation, inversefourier using magnitude spectrum\n",
                "    data : 1D Array\n",
                "        Input array of electrocardiogram signal\n",
                "\n",
                "    Returns\n",
                "    -------\n",
                "    Tuple [1D Array, 1D Array]\n",
                "        Return the peak position and the peak value of the electrocardiogram signal.\n",
                "    \"\"\"\n",
                "    correlation = auto_correlation(type, data)\n",
                "    peak_position = find_peaks(correlation, distance=100, height=0.1)[0]\n",
                "\n",
                "    peak_value = [correlation[i] for i in peak_position]\n",
                "    return peak_position, peak_value"
            ],
            "outputs": [],
            "metadata": {}
        },
        {
            "cell_type": "code",
            "execution_count": 11,
            "source": [
                "def on_change_select_first_signal(change):\n",
                "    with out:\n",
                "        texts0 = [[], []] # X(sequence) and Y(ecg signal) value\n",
                "        with open(select_first_signal.get_interact_value(), \"r\") as file:\n",
                "            text_file = file.readlines()\n",
                "        texts0[0] = arange(len(text_file))\n",
                "        try:\n",
                "            for text in text_file: \n",
                "                texts0[1].append(float(text.replace(\"\\n\", \"\")))\n",
                "        except ValueError:\n",
                "            print(\"Please select single column data file.\")\n",
                "            return\n",
                "        fig0_ax0.clear()\n",
                "        fig0_ax0.plot(texts0[0], texts0[1])\n",
                "        first_signal_length.value = f\"{len(texts0[0])}\""
            ],
            "outputs": [],
            "metadata": {}
        },
        {
            "cell_type": "code",
            "execution_count": 12,
            "source": [
                "def on_change_select_second_signal(change):\n",
                "    with out:\n",
                "        texts0 = [[], []] # X(sequence) and Y(ecg signal) value\n",
                "        with open(select_second_signal.get_interact_value(), \"r\") as file:\n",
                "            text_file = file.readlines()\n",
                "        texts0[0] = arange(len(text_file))\n",
                "        try:\n",
                "            for text in text_file: \n",
                "                texts0[1].append(float(text.replace(\"\\n\", \"\")))\n",
                "        except ValueError:\n",
                "            print(\"Please select single column data file.\")\n",
                "            return\n",
                "        fig0_ax1.clear()\n",
                "        fig0_ax1.plot(texts0[0], texts0[1], color=\"green\")\n",
                "        second_signal_length.value = f\"{len(texts0[0])}\""
            ],
            "outputs": [],
            "metadata": {}
        },
        {
            "cell_type": "code",
            "execution_count": 15,
            "source": [
                "print(\"Please select the same data length for first and second signal\")\n",
                "files = listdir(Path().absolute())\n",
                "\n",
                "select_first_signal = widgets.Select(\n",
                "    options=files,\n",
                "    description='Select First File:',\n",
                "    disabled=False\n",
                ")\n",
                "\n",
                "first_signal_length = widgets.Text(value='0', disabled=True)\n",
                "\n",
                "select_second_signal = widgets.Select(\n",
                "    options=files,\n",
                "    description='Select Second File:',\n",
                "    disabled=False\n",
                ")\n",
                "\n",
                "second_signal_length = widgets.Text(value=\"0\", disabled=True)\n",
                "out = widgets.Output()\n",
                "\n",
                "select_first_signal.observe(on_change_select_first_signal)\n",
                "select_second_signal.observe(on_change_select_second_signal)\n",
                "\n",
                "display(select_first_signal, first_signal_length, select_second_signal, second_signal_length, out)\n",
                "\n",
                "fig0 = plt.figure()\n",
                "fig0_ax0 = fig0.add_axes([0.1,0.1,0.85,0.85], xlabel=\"sequence\", ylabel=\"amplitude\")\n",
                "fig0_ax1 = fig0_ax0.twinx()\n",
                "fig0_ax1.set_ylabel(ylabel=\"amplitude\")\n",
                "plt.show()"
            ],
            "outputs": [
                {
                    "output_type": "stream",
                    "name": "stdout",
                    "text": [
                        "Please select the same data length for first and second signal\n"
                    ]
                },
                {
                    "output_type": "display_data",
                    "data": {
                        "application/vnd.jupyter.widget-view+json": {
                            "version_major": 2,
                            "version_minor": 0,
                            "model_id": "2d2a8df588c449f58a5e979ccd02a3e9"
                        },
                        "text/plain": [
                            "Select(description='Select First File:', options=('ACF CCF Fix.py', 'Reflected Sinus 10 Hz 512 Data.txt', 'ACF…"
                        ]
                    },
                    "metadata": {}
                },
                {
                    "output_type": "display_data",
                    "data": {
                        "application/vnd.jupyter.widget-view+json": {
                            "version_major": 2,
                            "version_minor": 0,
                            "model_id": "9c71844c993440c582c49219adbc9652"
                        },
                        "text/plain": [
                            "Text(value='0', disabled=True)"
                        ]
                    },
                    "metadata": {}
                },
                {
                    "output_type": "display_data",
                    "data": {
                        "application/vnd.jupyter.widget-view+json": {
                            "version_major": 2,
                            "version_minor": 0,
                            "model_id": "9f8969d35bc247e9b0b35ccb675ed546"
                        },
                        "text/plain": [
                            "Select(description='Select Second File:', options=('ACF CCF Fix.py', 'Reflected Sinus 10 Hz 512 Data.txt', 'AC…"
                        ]
                    },
                    "metadata": {}
                },
                {
                    "output_type": "display_data",
                    "data": {
                        "application/vnd.jupyter.widget-view+json": {
                            "version_major": 2,
                            "version_minor": 0,
                            "model_id": "50746bbbf4f446ec904b8a85024f7ac5"
                        },
                        "text/plain": [
                            "Text(value='0', disabled=True)"
                        ]
                    },
                    "metadata": {}
                },
                {
                    "output_type": "display_data",
                    "data": {
                        "application/vnd.jupyter.widget-view+json": {
                            "version_major": 2,
                            "version_minor": 0,
                            "model_id": "4f84db13449e46599012bcf2d8ba297c"
                        },
                        "text/plain": [
                            "Output()"
                        ]
                    },
                    "metadata": {}
                },
                {
                    "output_type": "display_data",
                    "data": {
                        "application/vnd.jupyter.widget-view+json": {
                            "version_major": 2,
                            "version_minor": 0,
                            "model_id": "272b6e87f66548248b5c5eabe5ff2576"
                        },
                        "text/plain": [
                            "Canvas(toolbar=Toolbar(toolitems=[('Home', 'Reset original view', 'home', 'home'), ('Back', 'Back to previous …"
                        ]
                    },
                    "metadata": {}
                }
            ],
            "metadata": {}
        },
        {
            "cell_type": "code",
            "execution_count": 27,
            "source": [
                "texts0 = [[], []] # X(sequence) and Y(ecg signal) value\n",
                "texts1 = [[], []] # X(sequence) and Y(ecg signal) value\n",
                "\n",
                "with open(select_first_signal.get_interact_value(), \"r\") as file:\n",
                "    text_file = file.readlines()\n",
                "texts0[0] = arange(len(text_file))\n",
                "for text in text_file: \n",
                "    texts0[1].append(float(text.replace(\"\\n\", \"\")))\n",
                "\n",
                "with open(select_second_signal.get_interact_value(), \"r\") as file:\n",
                "    text_file = file.readlines()\n",
                "texts1[0] = arange(len(text_file))\n",
                "for text in text_file: \n",
                "    texts1[1].append(float(text.replace(\"\\n\", \"\")))\n"
            ],
            "outputs": [],
            "metadata": {}
        },
        {
            "cell_type": "code",
            "execution_count": null,
            "source": [
                "fig = plt.figure()\n",
                "ax0 = fig.add_axes([0.1,0.1,0.85,0.85], xlabel=\"sequence\", ylabel=\"amplitude\", title=\"Auto Correlation\")\n",
                "ax0.plot(texts0[0], [abs(x) for x in auto_correlation(\"normal\", texts0[1])], label=\"Phase Shift\")\n",
                "ax0.legend()\n",
                "ax1 = ax0.twinx()\n",
                "ax1.set_ylabel(ylabel=\"amplitude\")\n",
                "ax1.plot(texts0[0], [abs(x) for x in auto_correlation(\"inversefourier\", texts0[1])], label=\"Inverse Fourier\", color=\"green\")\n",
                "ax1.legend()\n",
                "plt.show()"
            ],
            "outputs": [],
            "metadata": {}
        },
        {
            "cell_type": "code",
            "execution_count": 29,
            "source": [
                "fig = plt.figure()\n",
                "ax0 = fig.add_axes([0.1,0.1,0.85,0.85], xlabel=\"sequence\", ylabel=\"amplitude\")\n",
                "ax0.plot([x - (len(texts0[0]))//2 for x in texts0[0]], cross_correlation(\"normal\", texts0[1], texts1[1]), label=\"Correlated Signal\")\n",
                "ax0.legend()\n",
                "plt.show()"
            ],
            "outputs": [
                {
                    "output_type": "display_data",
                    "data": {
                        "application/vnd.jupyter.widget-view+json": {
                            "version_major": 2,
                            "version_minor": 0,
                            "model_id": "b76e5024aacc41e4945e3d8dbd3001f3"
                        },
                        "text/plain": [
                            "Canvas(toolbar=Toolbar(toolitems=[('Home', 'Reset original view', 'home', 'home'), ('Back', 'Back to previous …"
                        ]
                    },
                    "metadata": {}
                }
            ],
            "metadata": {}
        }
    ],
    "metadata": {
        "orig_nbformat": 4,
        "language_info": {
            "name": "python",
            "version": "3.8.10",
            "mimetype": "text/x-python",
            "codemirror_mode": {
                "name": "ipython",
                "version": 3
            },
            "pygments_lexer": "ipython3",
            "nbconvert_exporter": "python",
            "file_extension": ".py"
        },
        "kernelspec": {
            "name": "python3",
            "display_name": "Python 3.8.10 64-bit"
        },
        "interpreter": {
            "hash": "916dbcbb3f70747c44a77c7bcd40155683ae19c65e1c03b4aa3499c5328201f1"
        }
    },
    "nbformat": 4,
    "nbformat_minor": 2
}