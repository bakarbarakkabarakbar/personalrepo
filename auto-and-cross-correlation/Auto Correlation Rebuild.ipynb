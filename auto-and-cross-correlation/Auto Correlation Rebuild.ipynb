{
    "cells": [
        {
            "cell_type": "code",
            "execution_count": 1,
            "source": [
                "import matplotlib.pyplot as plt\n",
                "from numpy import arange, exp, pi, zeros, correlate, array, sqrt\n",
                "from scipy.signal import find_peaks\n",
                "from pathlib import Path\n",
                "from os import listdir\n",
                "import ipywidgets as widgets\n",
                "from IPython.display import display\n",
                "%matplotlib widget"
            ],
            "outputs": [],
            "metadata": {}
        },
        {
            "cell_type": "code",
            "execution_count": 2,
            "source": [
                "def auto_correlation(type, data):\n",
                "    \"\"\"Doing correlation to the signal itself using designed mathematics equation. Time shifted to the length of data.\n",
                "\n",
                "    Parameters\n",
                "    ----------\n",
                "    type : String\n",
                "        Function type: normal for using the direct correlation, inversefourier using magnitude spectrum\n",
                "    data : 1D array\n",
                "        Input of the function, data signal\n",
                "\n",
                "    Returns\n",
                "    -------\n",
                "    1D array\n",
                "        Return of the autocorrelation\n",
                "    \"\"\"\n",
                "    result = array(zeros(len(data)), dtype=complex)\n",
                "    magnitude_spectrum = array(zeros(len(data)), dtype=complex)\n",
                "    if type == \"normal\":\n",
                "        return [x/len(data) for x in correlate(data, data, mode=\"same\")]\n",
                "    elif type == \"inversefourier\":\n",
                "        for i in range(len(data)):\n",
                "            for j in range(len(data)):\n",
                "                magnitude_spectrum[i] += (data[j]**2)*exp(-2j*pi*i*j/len(data))\n",
                "        \n",
                "        for i in range(len(data)):\n",
                "            for j in range(len(data)):\n",
                "                result[i] += (magnitude_spectrum[j]**2)*exp(2j*pi*i*j/len(magnitude_spectrum))\n",
                "            result[i] = result[i]/len(magnitude_spectrum)\n",
                "        return result\n",
                "    else: raise Exception(\"Please check the available type!\") "
            ],
            "outputs": [],
            "metadata": {}
        },
        {
            "cell_type": "code",
            "execution_count": 3,
            "source": [
                "def cross_correlation(type, first_data, second_data):\n",
                "    \"\"\"Doing correlation on two signal using designed mathematical equation. Time shifted to the first signal. \n",
                "\n",
                "    Parameters\n",
                "    ----------\n",
                "    type : String\n",
                "        Function type: normal for using the direct correlation, inversefourier using magnitude spectrum\n",
                "    firstdata : 1D Array\n",
                "        Base signal for correlation. The signal that doesn't move on the line.\n",
                "    seconddata : 1D Array\n",
                "        Signal for the correlation, signal move across the first signal.\n",
                "\n",
                "    Returns\n",
                "    -------\n",
                "    1D Array\n",
                "        Return of the function with length of the first signal.\n",
                "    \"\"\"\n",
                "\n",
                "    if len(first_data) != len(second_data):\n",
                "        raise Exception(\"Please select the same length of the first and second data!\")\n",
                "\n",
                "    data_length = len(first_data)\n",
                "\n",
                "    if type == \"normal\":\n",
                "        return [x/data_length for x in correlate(first_data, second_data, mode=\"same\")]\n",
                "    elif type == \"normalnormalized\":\n",
                "        rxy = [x/data_length for x in correlate(first_data, second_data, mode=\"same\")]\n",
                "        rxx = auto_correlation(\"normal\", first_data)\n",
                "        ryy = auto_correlation(\"normal\", second_data)\n",
                "        return rxy/(sqrt(rxx)*sqrt(ryy))"
            ],
            "outputs": [],
            "metadata": {}
        },
        {
            "cell_type": "code",
            "execution_count": 4,
            "source": [
                "def ecg_peak_finding(type, data):\n",
                "    \"\"\"Finding the peak position of the electrocardiogram signal based on the correlation mathematical function method.\n",
                "\n",
                "    Parameters\n",
                "    ----------\n",
                "    type : String\n",
                "        Function type: normal for using the direct correlation, inversefourier using magnitude spectrum\n",
                "    data : 1D Array\n",
                "        Input array of electrocardiogram signal\n",
                "\n",
                "    Returns\n",
                "    -------\n",
                "    Tuple [1D Array, 1D Array]\n",
                "        Return the peak position and the peak value of the electrocardiogram signal.\n",
                "    \"\"\"\n",
                "    correlation = auto_correlation(type, data)\n",
                "    peak_position = find_peaks(correlation, distance=100, height=0.1)[0]\n",
                "\n",
                "    peak_value = [correlation[i] for i in peak_position]\n",
                "    return peak_position, peak_value"
            ],
            "outputs": [],
            "metadata": {}
        },
        {
            "cell_type": "code",
            "execution_count": 5,
            "source": [
                "def on_change_select_first_signal(change):\n",
                "    with out:\n",
                "        texts0 = [[], []] # X(sequence) and Y(ecg signal) value\n",
                "        with open(select_first_signal.get_interact_value(), \"r\") as file:\n",
                "            text_file = file.readlines()\n",
                "        texts0[0] = arange(len(text_file))\n",
                "        try:\n",
                "            for text in text_file: \n",
                "                texts0[1].append(float(text.replace(\"\\n\", \"\")))\n",
                "        except ValueError:\n",
                "            print(\"Please select single column data file.\")\n",
                "            return\n",
                "        fig0_ax0.clear()\n",
                "        fig0_ax0.plot(texts0[0], texts0[1], label=\"first signal\")\n",
                "        fig0.legend()\n",
                "        first_signal_length.value = f\"{len(texts0[0])}\""
            ],
            "outputs": [],
            "metadata": {}
        },
        {
            "cell_type": "code",
            "execution_count": 6,
            "source": [
                "def on_change_select_second_signal(change):\n",
                "    with out:\n",
                "        texts0 = [[], []] # X(sequence) and Y(ecg signal) value\n",
                "        with open(select_second_signal.get_interact_value(), \"r\") as file:\n",
                "            text_file = file.readlines()\n",
                "        texts0[0] = arange(len(text_file))\n",
                "        try:\n",
                "            for text in text_file: \n",
                "                texts0[1].append(float(text.replace(\"\\n\", \"\")))\n",
                "        except ValueError:\n",
                "            print(\"Please select single column data file.\")\n",
                "            return\n",
                "        fig0_ax1.clear()\n",
                "        fig0_ax1.plot(texts0[0], texts0[1], color=\"green\", label=\"second signal\")\n",
                "        fig0.legend()\n",
                "        second_signal_length.value = f\"{len(texts0[0])}\""
            ],
            "outputs": [],
            "metadata": {}
        },
        {
            "cell_type": "code",
            "execution_count": 7,
            "source": [
                "def on_change_time_lag(change):\n",
                "    with out:\n",
                "        texts2 = [[], []] # X(sequence) and Y(ecg signal) time lagged value\n",
                "        texts2[0] = texts1[0]\n",
                "        texts2[1] = zeros(len(texts1[1]))\n",
                "        time_lag = select_time_lag.get_interact_value()\n",
                "        if time_lag > 0:\n",
                "            for x in range(time_lag, len(texts2[1])):\n",
                "                texts2[1][x] = texts1[1][x - time_lag]\n",
                "        elif time_lag < 0:\n",
                "            for x in range(abs(time_lag), len(texts2[1])):\n",
                "                texts2[1][x - abs(time_lag)] = texts1[1][x]\n",
                "        else:\n",
                "            texts2[1] = texts1[1]\n",
                "        fig2_ax1.clear()\n",
                "        fig3_ax0.clear()\n",
                "        fig2_ax1.plot(texts2[0], texts2[1], color=\"green\")\n",
                "        fig3_ax0.plot([x - (len(texts0[0]))//2 for x in texts0[0]], cross_correlation(\"normal\", texts0[1], texts2[1]), label=\"Correlated Signal\")"
            ],
            "outputs": [],
            "metadata": {}
        },
        {
            "cell_type": "code",
            "execution_count": 8,
            "source": [
                "print(\"Please select the same data length for first and second signal\")\n",
                "files = listdir(Path().absolute())\n",
                "\n",
                "select_first_signal = widgets.Select(\n",
                "    options=files,\n",
                "    description='Select First File:',\n",
                "    disabled=False\n",
                ")\n",
                "\n",
                "first_signal_length = widgets.Text(value='0', disabled=True)\n",
                "\n",
                "select_second_signal = widgets.Select(\n",
                "    options=files,\n",
                "    description='Select Second File:',\n",
                "    disabled=False\n",
                ")\n",
                "\n",
                "second_signal_length = widgets.Text(value=\"0\", disabled=True)\n",
                "out = widgets.Output()\n",
                "vertical_box_1 = widgets.VBox([select_first_signal, first_signal_length])\n",
                "vertical_box_2 = widgets.VBox([select_second_signal, second_signal_length])\n",
                "horizontal_box = widgets.HBox([vertical_box_1, vertical_box_2])\n",
                "\n",
                "select_first_signal.observe(on_change_select_first_signal)\n",
                "select_second_signal.observe(on_change_select_second_signal)\n",
                "\n",
                "display(horizontal_box)\n",
                "\n",
                "fig0 = plt.figure()\n",
                "fig0_ax0 = fig0.add_axes([0.1,0.1,0.85,0.85], xlabel=\"sequence\", ylabel=\"amplitude\")\n",
                "fig0_ax1 = fig0_ax0.twinx()\n",
                "fig0_ax1.set_ylabel(ylabel=\"amplitude\")\n",
                "plt.show()"
            ],
            "outputs": [
                {
                    "output_type": "stream",
                    "name": "stdout",
                    "text": [
                        "Please select the same data length for first and second signal\n"
                    ]
                },
                {
                    "output_type": "display_data",
                    "data": {
                        "application/vnd.jupyter.widget-view+json": {
                            "version_major": 2,
                            "version_minor": 0,
                            "model_id": "cc924b4137e9476eaae016bb875f438d"
                        },
                        "text/plain": [
                            "HBox(children=(VBox(children=(Select(description='Select First File:', options=('ACF CCF Fix.py', 'Reflected S…"
                        ]
                    },
                    "metadata": {}
                },
                {
                    "output_type": "display_data",
                    "data": {
                        "application/vnd.jupyter.widget-view+json": {
                            "version_major": 2,
                            "version_minor": 0,
                            "model_id": "216833ecfe8e4055b87031d6ed9c45bd"
                        },
                        "text/plain": [
                            "Canvas(toolbar=Toolbar(toolitems=[('Home', 'Reset original view', 'home', 'home'), ('Back', 'Back to previous …"
                        ]
                    },
                    "metadata": {}
                }
            ],
            "metadata": {}
        },
        {
            "cell_type": "code",
            "execution_count": 9,
            "source": [
                "texts0 = [[], []] # X(sequence) and Y(ecg signal) value\n",
                "texts1 = [[], []] # X(sequence) and Y(ecg signal) value\n",
                "\n",
                "with open(select_first_signal.get_interact_value(), \"r\") as file:\n",
                "    text_file = file.readlines()\n",
                "texts0[0] = arange(len(text_file))\n",
                "for text in text_file: \n",
                "    texts0[1].append(float(text.replace(\"\\n\", \"\")))\n",
                "\n",
                "with open(select_second_signal.get_interact_value(), \"r\") as file:\n",
                "    text_file = file.readlines()\n",
                "texts1[0] = arange(len(text_file))\n",
                "for text in text_file: \n",
                "    texts1[1].append(float(text.replace(\"\\n\", \"\")))\n"
            ],
            "outputs": [],
            "metadata": {}
        },
        {
            "cell_type": "code",
            "execution_count": null,
            "source": [
                "fig1 = plt.figure()\n",
                "fig1_ax0 = fig1.add_axes([0.1,0.1,0.85,0.85], xlabel=\"sequence\", ylabel=\"amplitude\", title=\"Auto Correlation\")\n",
                "fig1_ax0.plot(texts0[0], [abs(x) for x in auto_correlation(\"normal\", texts0[1])], label=\"Phase Shift\")\n",
                "fig1_ax0.legend()\n",
                "fig1_ax1 = fig1_ax0.twinx()\n",
                "fig1_ax1.set_ylabel(ylabel=\"amplitude\")\n",
                "fig1_ax1.plot(texts0[0], [abs(x) for x in auto_correlation(\"inversefourier\", texts0[1])], label=\"Inverse Fourier\", color=\"green\")\n",
                "fig1_ax1.legend()\n",
                "plt.show()"
            ],
            "outputs": [],
            "metadata": {}
        },
        {
            "cell_type": "code",
            "execution_count": null,
            "source": [
                "select_time_lag = widgets.IntSlider(\n",
                "    value=0,\n",
                "    min=-(len(texts1[0]//2)),\n",
                "    max=len(texts1[0]//2),\n",
                "    step=1,\n",
                "    description='Time Lag:',\n",
                "    disabled=False,\n",
                "    continuous_update=False,\n",
                "    orientation='horizontal',\n",
                "    readout=True,\n",
                "    readout_format='d'\n",
                ")\n",
                "\n",
                "out = widgets.Output()\n",
                "\n",
                "display(select_time_lag, out)\n",
                "select_time_lag.observe(on_change_time_lag)\n",
                "\n",
                "fig2 = plt.figure()\n",
                "fig2_ax0 = fig2.add_axes([0.1,0.1,0.85,0.85], xlabel=\"sequence\", ylabel=\"amplitude\")\n",
                "fig2_ax0.plot(texts0[0], texts0[1])\n",
                "fig2_ax1 = fig2_ax0.twinx()\n",
                "fig2_ax1.plot(texts1[0], texts1[1], color=\"green\")\n",
                "fig2_ax1.set_ylabel(ylabel=\"amplitude\")\n",
                "\n",
                "fig3 = plt.figure()\n",
                "fig3_ax0 = fig3.add_axes([0.1,0.1,0.85,0.85], xlabel=\"sequence\", ylabel=\"amplitude\")\n",
                "fig3_ax0.plot([x - (len(texts0[0]))//2 for x in texts0[0]], cross_correlation(\"normal\", texts0[1], texts1[1]), label=\"Correlated Signal\")\n",
                "fig3_ax0.legend()\n",
                "plt.show()"
            ],
            "outputs": [],
            "metadata": {}
        }
    ],
    "metadata": {
        "orig_nbformat": 4,
        "language_info": {
            "name": "python",
            "version": "3.8.10",
            "mimetype": "text/x-python",
            "codemirror_mode": {
                "name": "ipython",
                "version": 3
            },
            "pygments_lexer": "ipython3",
            "nbconvert_exporter": "python",
            "file_extension": ".py"
        },
        "kernelspec": {
            "name": "python3",
            "display_name": "Python 3.8.10 64-bit"
        },
        "interpreter": {
            "hash": "916dbcbb3f70747c44a77c7bcd40155683ae19c65e1c03b4aa3499c5328201f1"
        }
    },
    "nbformat": 4,
    "nbformat_minor": 2
}