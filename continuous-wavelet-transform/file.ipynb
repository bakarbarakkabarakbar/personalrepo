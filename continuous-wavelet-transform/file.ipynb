{
 "metadata": {
  "language_info": {
   "codemirror_mode": {
    "name": "ipython",
    "version": 3
   },
   "file_extension": ".py",
   "mimetype": "text/x-python",
   "name": "python",
   "nbconvert_exporter": "python",
   "pygments_lexer": "ipython3",
   "version": "3.8.10"
  },
  "orig_nbformat": 4,
  "kernelspec": {
   "name": "python3",
   "display_name": "Python 3.8.10 64-bit"
  },
  "interpreter": {
   "hash": "31f2aee4e71d21fbe5cf8b01ff0e069b9275f58929596ceb00d14d90e3e16cd6"
  }
 },
 "nbformat": 4,
 "nbformat_minor": 2,
 "cells": [
  {
   "cell_type": "markdown",
   "source": [
    "DOWNLOAD ALL NECESSARY FILE FROM THE FOLDER"
   ],
   "metadata": {}
  },
  {
   "cell_type": "code",
   "execution_count": 1,
   "source": [
    "import pywt\n",
    "from numpy import convolve\n",
    "import matplotlib.pyplot as plt\n",
    "import ipywidgets as widgets\n",
    "from IPython.display import display\n",
    "%matplotlib ipympl"
   ],
   "outputs": [],
   "metadata": {}
  },
  {
   "cell_type": "code",
   "execution_count": 2,
   "source": [
    "texts0 = [[], []]\n",
    "texts1 = [[], []]\n",
    "\n",
    "with open(\"Print_09_v2_PCG_LV.txt\", \"r\") as file:\n",
    "  textfile = file.readlines()\n",
    "\n",
    "for text in textfile:\n",
    "    text = text.split('\\t')\n",
    "    text[1] = text[1].replace('\\n',\"\")\n",
    "    texts0[0].append(float(text[0]))\n",
    "    texts0[1].append(float(text[1]))\n",
    "\n",
    "with open(\"Print_13_v2_PCG_RV.txt\", \"r\") as file:\n",
    "  textfile = file.readlines()\n",
    "\n",
    "for text in textfile:\n",
    "    text = text.split('\\t')\n",
    "    text[1] = text[1].replace('\\n',\"\")\n",
    "    texts1[0].append(float(text[0]))\n",
    "    texts1[1].append(float(text[1]))\n",
    "\n",
    "\n",
    "fig0 = plt.figure()\n",
    "ax0 = fig0.add_axes([0.1,0.1,0.85,0.85], xlabel=\"sequence\", ylabel=\"amplitude\", title=\"ElectroCardioGram Signal\")\n",
    "ax0.plot(texts0[0], texts0[1], label=\"ECG Signal\")\n",
    "ax0.plot(texts1[0], texts1[1], label=\"PCG Signal\", alpha=0.5)\n",
    "ax0.legend()\n",
    "plt.show()"
   ],
   "outputs": [
    {
     "output_type": "display_data",
     "data": {
      "text/plain": [
       "Canvas(toolbar=Toolbar(toolitems=[('Home', 'Reset original view', 'home', 'home'), ('Back', 'Back to previous …"
      ],
      "application/vnd.jupyter.widget-view+json": {
       "version_major": 2,
       "version_minor": 0,
       "model_id": "de58bd640b4f4121af5037fe189c9952"
      }
     },
     "metadata": {}
    }
   ],
   "metadata": {}
  },
  {
   "cell_type": "code",
   "execution_count": 3,
   "source": [
    "temporaryconvolvedsignal = texts0 # store temporary data for leveling on DWT\n",
    "\n",
    "def continuouswavelettransform(var):\n",
    "    pass\n",
    "\n",
    "def discretewavelettransfrom(var, waveletfunction, scalingfunction):\n",
    "    return convolve(var, waveletfunction, \"same\"), convolve(var, scalingfunction, \"same\")\n",
    "\n",
    "def waveletsignalfunction(wavelettype, waveletlength, waveletscale):\n",
    "    if wavelettype == \"DWT-Haar\":\n",
    "        wavelet = pywt.Wavelet(\"haar\")\n",
    "        _, waveletfunction, x = wavelet.wavefun(level=waveletscale)\n",
    "        return x, waveletfunction\n",
    "    elif wavelettype == \"DWT-Symlet-4\":\n",
    "        wavelet = pywt.Wavelet(\"sym4\")\n",
    "        _, waveletfunction, x = wavelet.wavefun(level=waveletscale)\n",
    "        return x, waveletfunction\n",
    "    elif wavelettype == \"CWT-Morlet\":\n",
    "        wavelet = pywt.ContinuousWavelet(\"morl\")\n",
    "        waveletfunction, x = wavelet.wavefun(level=waveletscale)\n",
    "        return x, waveletfunction\n",
    "    elif wavelettype == \"CWT-Mexican Hat\":\n",
    "        wavelet = pywt.ContinuousWavelet(\"mexh\")\n",
    "        waveletfunction, x = wavelet.wavefun(level=waveletscale)\n",
    "        return x, waveletfunction\n",
    "\n",
    "def scalingsignalfunction(wavelettype, waveletlength, waveletscale):\n",
    "    if wavelettype == \"DWT-Haar\":\n",
    "        wavelet = pywt.Wavelet(\"haar\")\n",
    "        scalingfunction, _, x = wavelet.wavefun(level=waveletscale)\n",
    "        return x, scalingfunction\n",
    "    elif wavelettype == \"DWT-Symlet-4\":\n",
    "        wavelet = pywt.Wavelet(\"sym4\")\n",
    "        scalingfunction, _, x = wavelet.wavefun(level=waveletscale)\n",
    "        return x, scalingfunction\n",
    "\n",
    "def on_change(change):\n",
    "    with out:\n",
    "        global temporaryconvolvedsignal\n",
    "        temporaryconvolvedsignal = texts0\n",
    "\n",
    "        fig1.clear()\n",
    "        ax1 = fig1.add_axes([0.12,0.1,0.85,0.85], xlabel=\"sequence\", ylabel=\"amplitude\", title=\"Signal\")\n",
    "\n",
    "        fig2.clear()\n",
    "        ax2 = fig2.add_axes([0.12,0.1,0.85,0.85], xlabel=\"sequence\", ylabel=\"amplitude\", title=\"Transform Signal\")\n",
    "\n",
    "        try:\n",
    "            xaxis, waveletfunction= waveletsignalfunction(\n",
    "                selectwavelettype.get_interact_value(), \n",
    "                selectwaveletlength.get_interact_value(), \n",
    "                selectwaveletscale.get_interact_value())\n",
    "            ax1.plot(xaxis, waveletfunction, label=\"Wavelet Function\")\n",
    "            ax1.legend()\n",
    "            selectwaveletlength.value = len(xaxis)\n",
    "        except Exception as e:\n",
    "            pass\n",
    "        \n",
    "        try:\n",
    "            xaxis, scalingfunction= scalingsignalfunction(\n",
    "                selectwavelettype.get_interact_value(), \n",
    "                selectwaveletlength.get_interact_value(), \n",
    "                selectwaveletscale.get_interact_value())\n",
    "            ax1.plot(xaxis, scalingfunction, label=\"Scaling Function\")\n",
    "            ax1.legend()\n",
    "            selectwaveletlength.value = len(xaxis)\n",
    "        except Exception as e:\n",
    "            pass\n",
    "\n",
    "        if selectwaveletlength.value >= len(temporaryconvolvedsignal[1]):\n",
    "            out.clear_output()\n",
    "            print('Length of the wavelet cannot exceed the input length signal! ({})'.format(len(temporaryconvolvedsignal[1])))\n",
    "            return\n",
    "\n",
    "        convolvedwaveletsignal, _ = discretewavelettransfrom(temporaryconvolvedsignal[1], waveletfunction, scalingfunction)\n",
    "        ax2.plot(temporaryconvolvedsignal[0], convolvedwaveletsignal, label=\"Convolved Signal\")\n",
    "        out.clear_output()\n",
    "\n",
    "def on_button_clicked(_):\n",
    "    global temporaryconvolvedsignal\n",
    "\n",
    "    with out:\n",
    "        fig1.clear()\n",
    "        ax1 = fig1.add_axes([0.12,0.1,0.85,0.85], xlabel=\"sequence\", ylabel=\"amplitude\", title=\"Signal\")\n",
    "\n",
    "        fig2.clear()\n",
    "        ax2 = fig2.add_axes([0.12,0.1,0.85,0.85], xlabel=\"sequence\", ylabel=\"amplitude\", title=\"Transform Signal\")\n",
    "        selectwaveletscale.value = selectwaveletscale.get_interact_value()+1\n",
    "\n",
    "        try:\n",
    "            xaxis, waveletfunction= waveletsignalfunction(\n",
    "                selectwavelettype.get_interact_value(), \n",
    "                selectwaveletlength.get_interact_value(), \n",
    "                selectwaveletscale.get_interact_value())\n",
    "            ax1.plot(xaxis, waveletfunction, label=\"Wavelet Function\")\n",
    "            ax1.legend()\n",
    "            selectwaveletlength.value = len(xaxis)\n",
    "        except Exception as e:\n",
    "            pass\n",
    "        \n",
    "        try:\n",
    "            xaxis, scalingfunction= scalingsignalfunction(\n",
    "                selectwavelettype.get_interact_value(), \n",
    "                selectwaveletlength.get_interact_value(), \n",
    "                selectwaveletscale.get_interact_value())\n",
    "            ax1.plot(xaxis, scalingfunction, label=\"Scaling Function\")\n",
    "            ax1.legend()\n",
    "            selectwaveletlength.value = len(xaxis)\n",
    "        except Exception as e:\n",
    "            pass\n",
    "\n",
    "        if selectwaveletlength.value >= len(temporaryconvolvedsignal[1]):\n",
    "            out.clear_output()\n",
    "            print('Length of the wavelet cannot exceed the input length signal! ({})'.format(len(temporaryconvolvedsignal[1])))\n",
    "            return\n",
    "        convolvedwaveletsignal, temporaryconvolvedsignal[1] = discretewavelettransfrom(temporaryconvolvedsignal[1], waveletfunction, scalingfunction)\n",
    "        ax2.plot(temporaryconvolvedsignal[0], convolvedwaveletsignal, label=\"Convolved Signal\")\n",
    "        out.clear_output()\n",
    "        print('Using this button enabling convolution of the scaling function to the signal thus making it increasing in level!')\n",
    "        "
   ],
   "outputs": [],
   "metadata": {}
  },
  {
   "cell_type": "code",
   "execution_count": 4,
   "source": [
    "selectwavelettype = widgets.Select(\n",
    "    options=['DWT-Haar', \"DWT-Symlet-4\", \"CWT-Morlet\", \"CWT-Mexican Hat\"],\n",
    "    value=None,\n",
    "    description='Wavelet Type:',\n",
    "    disabled=False\n",
    ")\n",
    "\n",
    "selectwaveletlength = widgets.IntText(\n",
    "    description='Wavelet Length:',\n",
    "    disabled=False\n",
    ")\n",
    "\n",
    "selectwaveletscale = widgets.FloatSlider(\n",
    "    value=5,\n",
    "    min=0,\n",
    "    max=15.0,\n",
    "    step=1,\n",
    "    description='Wavelet Refinement Scale:',\n",
    "    disabled=False,\n",
    "    continuous_update=False,\n",
    "    orientation='horizontal',\n",
    "    readout=True,\n",
    "    readout_format='.1f',\n",
    ")\n",
    "\n",
    "buttonnextwaveletscale = widgets.Button(\n",
    "    description='Next Wavelet Scale')\n",
    "\n",
    "out = widgets.Output()"
   ],
   "outputs": [],
   "metadata": {}
  },
  {
   "cell_type": "code",
   "execution_count": 5,
   "source": [
    "fig1 = plt.figure()\n",
    "ax1= fig1.add_axes([0.12,0.1,0.85,0.85], xlabel=\"sequence\", ylabel=\"amplitude\", title=\"Wavelet Signal\")\n",
    "\n",
    "selectwavelettype.observe(on_change)\n",
    "selectwaveletlength.observe(on_change)\n",
    "selectwaveletscale.observe(on_change)\n",
    "buttonnextwaveletscale.on_click(on_button_clicked)\n",
    "\n",
    "display(selectwavelettype, selectwaveletlength, selectwaveletscale)\n",
    "\n",
    "fig2 = plt.figure()\n",
    "ax2 = fig2.add_axes([0.12,0.1,0.85,0.85], xlabel=\"sequence\", ylabel=\"amplitude\", title=\"Transform Signal\")\n",
    "plt.show()\n",
    "\n",
    "display(buttonnextwaveletscale, out)\n"
   ],
   "outputs": [
    {
     "output_type": "display_data",
     "data": {
      "text/plain": [
       "Canvas(toolbar=Toolbar(toolitems=[('Home', 'Reset original view', 'home', 'home'), ('Back', 'Back to previous …"
      ],
      "application/vnd.jupyter.widget-view+json": {
       "version_major": 2,
       "version_minor": 0,
       "model_id": "3fd19911445a4801bc4c8e083691f776"
      }
     },
     "metadata": {}
    },
    {
     "output_type": "display_data",
     "data": {
      "text/plain": [
       "Select(description='Wavelet Type:', options=('DWT-Haar', 'DWT-Symlet-4', 'CWT-Morlet', 'CWT-Mexican Hat'), val…"
      ],
      "application/vnd.jupyter.widget-view+json": {
       "version_major": 2,
       "version_minor": 0,
       "model_id": "538dd44b604044caaf0e095e9bd1f9a9"
      }
     },
     "metadata": {}
    },
    {
     "output_type": "display_data",
     "data": {
      "text/plain": [
       "IntText(value=0, description='Wavelet Length:')"
      ],
      "application/vnd.jupyter.widget-view+json": {
       "version_major": 2,
       "version_minor": 0,
       "model_id": "66c517bfa9da4716a95f866b3849d370"
      }
     },
     "metadata": {}
    },
    {
     "output_type": "display_data",
     "data": {
      "text/plain": [
       "FloatSlider(value=5.0, continuous_update=False, description='Wavelet Refinement Scale:', max=15.0, readout_for…"
      ],
      "application/vnd.jupyter.widget-view+json": {
       "version_major": 2,
       "version_minor": 0,
       "model_id": "1470948f2d7840ad9ff6cb98e12cb8a9"
      }
     },
     "metadata": {}
    },
    {
     "output_type": "display_data",
     "data": {
      "text/plain": [
       "Canvas(toolbar=Toolbar(toolitems=[('Home', 'Reset original view', 'home', 'home'), ('Back', 'Back to previous …"
      ],
      "application/vnd.jupyter.widget-view+json": {
       "version_major": 2,
       "version_minor": 0,
       "model_id": "45be63a1ae0b477c93d0e8d7a96bc9c7"
      }
     },
     "metadata": {}
    },
    {
     "output_type": "display_data",
     "data": {
      "text/plain": [
       "Button(description='Next Wavelet Scale', style=ButtonStyle())"
      ],
      "application/vnd.jupyter.widget-view+json": {
       "version_major": 2,
       "version_minor": 0,
       "model_id": "7433b7c5a104466c88b685fee37f0354"
      }
     },
     "metadata": {}
    },
    {
     "output_type": "display_data",
     "data": {
      "text/plain": [
       "Output()"
      ],
      "application/vnd.jupyter.widget-view+json": {
       "version_major": 2,
       "version_minor": 0,
       "model_id": "110c292553e145658d82274d835baaf8"
      }
     },
     "metadata": {}
    }
   ],
   "metadata": {}
  },
  {
   "cell_type": "code",
   "execution_count": null,
   "source": [
    "# scale = 200\n",
    "# delta = 0.2\n",
    "# dt = 0.001 # 1000 Hz Sampling\n",
    "# coef, freqs=pywt.cwt(texts1[1], np.arange(1, scale, 4), 'morl')\n",
    "# X = texts1[0]\n",
    "# Y = np.linspace(0, np.shape(freqs)[0], np.shape(coef)[0])\n",
    "# Z = abs(coef)\n",
    "# X, Y = np.meshgrid(X, Y)\n",
    "\n",
    "# fig = plt.figure()\n",
    "# plt.imshow(coef, interpolation=\"nearest\", origin=\"upper\",aspect='auto')\n",
    "# plt.colorbar()\n",
    "# plt.show()\n",
    "# plt.matshow(coef) # doctest: +SKIP\n",
    "# plt.show() # doctest: +SKIP"
   ],
   "outputs": [],
   "metadata": {}
  },
  {
   "cell_type": "code",
   "execution_count": null,
   "source": [
    "# fig = plt.figure()\n",
    "# ax = plt.axes(projection='3d', title=\"Continuous Wavelet Transform\")\n",
    "# plot_cwt = ax.plot_surface(X, Y, Z,rstride=1, cstride=1,\n",
    "#                 cmap='viridis', edgecolor='none')\n",
    "# plot_cwt = ax.plot_wireframe(X, Y, Z, rstride=10, cstride=10)\n",
    "\n",
    "# fig.colorbar(plot_cwt, shrink=0.5, aspect=5)"
   ],
   "outputs": [],
   "metadata": {}
  },
  {
   "cell_type": "code",
   "execution_count": null,
   "source": [],
   "outputs": [],
   "metadata": {}
  }
 ]
}