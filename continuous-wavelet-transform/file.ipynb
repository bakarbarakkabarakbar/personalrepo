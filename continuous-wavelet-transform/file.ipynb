{
 "metadata": {
  "language_info": {
   "codemirror_mode": {
    "name": "ipython",
    "version": 3
   },
   "file_extension": ".py",
   "mimetype": "text/x-python",
   "name": "python",
   "nbconvert_exporter": "python",
   "pygments_lexer": "ipython3",
   "version": "3.8.10"
  },
  "orig_nbformat": 4,
  "kernelspec": {
   "name": "python3",
   "display_name": "Python 3.8.10 64-bit"
  },
  "interpreter": {
   "hash": "31f2aee4e71d21fbe5cf8b01ff0e069b9275f58929596ceb00d14d90e3e16cd6"
  }
 },
 "nbformat": 4,
 "nbformat_minor": 2,
 "cells": [
  {
   "cell_type": "markdown",
   "source": [
    "DOWNLOAD ALL NECESSARY FILE FROM THE FOLDER"
   ],
   "metadata": {}
  },
  {
   "cell_type": "code",
   "execution_count": 1,
   "source": [
    "import pywt\n",
    "import numpy as np\n",
    "import matplotlib.pyplot as plt\n",
    "%matplotlib ipympl\n",
    "import ipywidgets as widgets\n",
    "from mpl_toolkits import mplot3d"
   ],
   "outputs": [],
   "metadata": {}
  },
  {
   "cell_type": "code",
   "execution_count": 2,
   "source": [
    "texts1 = [[], []]\n",
    "texts2 = [[], []]\n",
    "\n",
    "with open(\"Print_09_v2_PCG_LV.txt\", \"r\") as file:\n",
    "  textfile = file.readlines()\n",
    "\n",
    "for text in textfile:\n",
    "    text = text.split('\\t')\n",
    "    text[1] = text[1].replace('\\n',\"\")\n",
    "    texts1[0].append(float(text[0]))\n",
    "    texts1[1].append(float(text[1]))\n",
    "\n",
    "with open(\"Print_13_v2_PCG_RV.txt\", \"r\") as file:\n",
    "  textfile = file.readlines()\n",
    "\n",
    "for text in textfile:\n",
    "    text = text.split('\\t')\n",
    "    text[1] = text[1].replace('\\n',\"\")\n",
    "    texts2[0].append(float(text[0]))\n",
    "    texts2[1].append(float(text[1]))\n",
    "\n",
    "\n",
    "fig = plt.figure()\n",
    "ax0 = fig.add_axes([0,0.1,0.9,0.35], xlabel=\"sequence\", ylabel=\"amplitude\", title=\"ElectroCardioGram Signal\")\n",
    "ax1 = fig.add_axes([0,0.60,0.9,0.35], xlabel=\"sequence\", ylabel=\"amplitude\", title=\"PhonoCardioGram Signal\")\n",
    "ax0.plot(texts1[0], texts1[1])\n",
    "ax1.plot(texts2[0], texts2[1])\n",
    "plt.show()"
   ],
   "outputs": [
    {
     "output_type": "display_data",
     "data": {
      "text/plain": [
       "Canvas(toolbar=Toolbar(toolitems=[('Home', 'Reset original view', 'home', 'home'), ('Back', 'Back to previous …"
      ],
      "application/vnd.jupyter.widget-view+json": {
       "version_major": 2,
       "version_minor": 0,
       "model_id": "e899f8b1a806437ca3b70869e1dd3f2c"
      }
     },
     "metadata": {}
    }
   ],
   "metadata": {}
  },
  {
   "cell_type": "code",
   "execution_count": 11,
   "source": [
    "scale = 200\n",
    "delta = 0.2\n",
    "dt = 0.001 # 1000 Hz Sampling\n",
    "coef, freqs=pywt.cwt(texts1[1], np.arange(1, scale, 4), 'morl')\n",
    "X = texts1[0]\n",
    "Y = np.linspace(0, np.shape(freqs)[0], np.shape(coef)[0])\n",
    "Z = abs(coef)\n",
    "X, Y = np.meshgrid(X, Y)\n",
    "\n",
    "# fig = plt.figure()\n",
    "# plt.imshow(coef, interpolation=\"nearest\", origin=\"upper\",aspect='auto')\n",
    "# plt.colorbar()\n",
    "# plt.show()\n",
    "# plt.matshow(coef) # doctest: +SKIP\n",
    "# plt.show() # doctest: +SKIP"
   ],
   "outputs": [],
   "metadata": {}
  },
  {
   "cell_type": "code",
   "execution_count": 12,
   "source": [
    "fig = plt.figure()\n",
    "ax = plt.axes(projection='3d', title=\"Continuous Wavelet Transform\")\n",
    "plot_cwt = ax.plot_surface(X, Y, Z,rstride=1, cstride=1,\n",
    "                cmap='viridis', edgecolor='none')\n",
    "# plot_cwt = ax.plot_wireframe(X, Y, Z, rstride=10, cstride=10)\n",
    "\n",
    "fig.colorbar(plot_cwt, shrink=0.5, aspect=5)"
   ],
   "outputs": [
    {
     "output_type": "display_data",
     "data": {
      "text/plain": [
       "Canvas(toolbar=Toolbar(toolitems=[('Home', 'Reset original view', 'home', 'home'), ('Back', 'Back to previous …"
      ],
      "application/vnd.jupyter.widget-view+json": {
       "version_major": 2,
       "version_minor": 0,
       "model_id": "fbc5e3ffcbdd49e9a782f95a576d40da"
      }
     },
     "metadata": {}
    },
    {
     "output_type": "execute_result",
     "data": {
      "text/plain": [
       "<matplotlib.colorbar.Colorbar at 0x7f39b3fc1be0>"
      ]
     },
     "metadata": {},
     "execution_count": 12
    }
   ],
   "metadata": {}
  },
  {
   "cell_type": "code",
   "execution_count": null,
   "source": [],
   "outputs": [],
   "metadata": {}
  }
 ]
}