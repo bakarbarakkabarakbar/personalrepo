{
 "metadata": {
  "language_info": {
   "codemirror_mode": {
    "name": "ipython",
    "version": 3
   },
   "file_extension": ".py",
   "mimetype": "text/x-python",
   "name": "python",
   "nbconvert_exporter": "python",
   "pygments_lexer": "ipython3",
   "version": "3.8.10"
  },
  "orig_nbformat": 4,
  "kernelspec": {
   "name": "python3",
   "display_name": "Python 3.8.10 64-bit"
  },
  "interpreter": {
   "hash": "31f2aee4e71d21fbe5cf8b01ff0e069b9275f58929596ceb00d14d90e3e16cd6"
  }
 },
 "nbformat": 4,
 "nbformat_minor": 2,
 "cells": [
  {
   "cell_type": "markdown",
   "source": [
    "DOWNLOAD ALL NECESSARY FILE FROM THE FOLDER"
   ],
   "metadata": {}
  },
  {
   "cell_type": "code",
   "execution_count": 3,
   "source": [
    "import pywt\n",
    "import numpy as np\n",
    "import matplotlib.pyplot as plt\n",
    "%matplotlib ipympl\n",
    "import ipywidgets as widgets\n",
    "from mpl_toolkits import mplot3d"
   ],
   "outputs": [],
   "metadata": {}
  },
  {
   "cell_type": "code",
   "execution_count": 2,
   "source": [
    "texts1 = [[], []]\n",
    "texts2 = [[], []]\n",
    "\n",
    "with open(\"Print_09_v2_PCG_LV.txt\", \"r\") as file:\n",
    "  textfile = file.readlines()\n",
    "\n",
    "for text in textfile:\n",
    "    text = text.split('\\t')\n",
    "    text[1] = text[1].replace('\\n',\"\")\n",
    "    texts1[0].append(float(text[0]))\n",
    "    texts1[1].append(float(text[1]))\n",
    "\n",
    "with open(\"Print_13_v2_PCG_RV.txt\", \"r\") as file:\n",
    "  textfile = file.readlines()\n",
    "\n",
    "for text in textfile:\n",
    "    text = text.split('\\t')\n",
    "    text[1] = text[1].replace('\\n',\"\")\n",
    "    texts2[0].append(float(text[0]))\n",
    "    texts2[1].append(float(text[1]))\n",
    "\n",
    "\n",
    "fig = plt.figure()\n",
    "ax0 = fig.add_axes([0,0.1,0.9,0.35], xlabel=\"sequence\", ylabel=\"amplitude\", title=\"ElectroCardioGram Signal\", picker=True)\n",
    "ax1 = fig.add_axes([0,0.60,0.9,0.35], xlabel=\"sequence\", ylabel=\"amplitude\", title=\"PhonoCardioGram Signal\")\n",
    "ax0.plot(texts1[0], texts1[1])\n",
    "ax1.plot(texts2[0], texts2[1])\n",
    "plt.show()"
   ],
   "outputs": [
    {
     "output_type": "display_data",
     "data": {
      "text/plain": [
       "Canvas(toolbar=Toolbar(toolitems=[('Home', 'Reset original view', 'home', 'home'), ('Back', 'Back to previous …"
      ],
      "application/vnd.jupyter.widget-view+json": {
       "version_major": 2,
       "version_minor": 0,
       "model_id": "f67189d5d17847a9942097ab319a7347"
      }
     },
     "metadata": {}
    }
   ],
   "metadata": {}
  },
  {
   "cell_type": "code",
   "execution_count": 4,
   "source": [
    "fig = plt.figure()\n",
    "ax = plt.axes(projection='3d')"
   ],
   "outputs": [
    {
     "output_type": "display_data",
     "data": {
      "text/plain": [
       "Canvas(toolbar=Toolbar(toolitems=[('Home', 'Reset original view', 'home', 'home'), ('Back', 'Back to previous …"
      ],
      "application/vnd.jupyter.widget-view+json": {
       "version_major": 2,
       "version_minor": 0,
       "model_id": "2f31d994dbb842dfa4e23386c7939b99"
      }
     },
     "metadata": {}
    }
   ],
   "metadata": {}
  },
  {
   "cell_type": "code",
   "execution_count": null,
   "source": [
    "x = texts1[0]\n",
    "y = texts1[1]\n",
    "scale = 50\n",
    "coef, freqs=pywt.cwt(y,np.arange(1, scale),'mexh')\n",
    "\n",
    "fig = plt.figure()\n",
    "plt.imshow(coef, interpolation=\"nearest\", origin=\"upper\",aspect='auto')\n",
    "plt.colorbar()\n",
    "plt.show()\n",
    "# plt.matshow(coef) # doctest: +SKIP\n",
    "# plt.show() # doctest: +SKIP"
   ],
   "outputs": [],
   "metadata": {}
  },
  {
   "cell_type": "code",
   "execution_count": null,
   "source": [
    "from mpl_toolkits.mplot3d import Axes3D\n",
    "from matplotlib.collections import PolyCollection\n",
    "from matplotlib.colors import colorConverter\n",
    "\n",
    "zs=texts[0]\n",
    "result = []\n",
    "for x in range(2000):\n",
    "    result += [list(zip(np.arange(scale), coef[1,:]))]\n",
    "\n",
    "poly = PolyCollection(result)\n",
    "poly.set_alpha(0.7)\n",
    "fig = plt.figure()\n",
    "ax = fig.gca(projection='3d')\n",
    "ax.add_collection3d(poly, zs=zs, zdir='y')\n",
    "ax.set_xlabel('X')\n",
    "ax.set_ylabel('Y')\n",
    "ax.set_zlabel('Z')\n",
    "\n",
    "plt.show()"
   ],
   "outputs": [],
   "metadata": {}
  },
  {
   "cell_type": "code",
   "execution_count": null,
   "source": [],
   "outputs": [],
   "metadata": {}
  },
  {
   "cell_type": "code",
   "execution_count": null,
   "source": [
    "t = np.linspace(-1, 1, 200, endpoint=False)\n",
    "sig  = np.cos(2 * np.pi * 7 * t) + np.real(np.exp(-7*(t-0.4)**2)*np.exp(1j*2*np.pi*2*(t-0.4)))\n",
    "widths = np.arange(1, 31)\n",
    "cwtmatr, freqs = pywt.cwt(sig, widths, 'mexh')\n",
    "plt.imshow(cwtmatr, extent=[-1, 1, 1, 31], cmap='PRGn', aspect='auto', vmax=abs(cwtmatr).max(), vmin=-abs(cwtmatr).max())  # doctest: +SKIP\n",
    "plt.show() # doctest: +SKIP"
   ],
   "outputs": [],
   "metadata": {}
  },
  {
   "cell_type": "code",
   "execution_count": null,
   "source": [],
   "outputs": [],
   "metadata": {}
  }
 ]
}