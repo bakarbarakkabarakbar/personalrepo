{
 "cells": [
  {
   "cell_type": "code",
   "execution_count": 6,
   "metadata": {
    "tags": []
   },
   "outputs": [],
   "source": [
    "import matplotlib.pyplot as plt\n",
    "from numpy import zeros, arange, fft, linspace, pi, cos, sin, sqrt, array, log10, amax\n",
    "from pathlib import Path\n",
    "from os import listdir\n",
    "from os.path import splitext\n",
    "import ipywidgets as widgets\n",
    "from IPython.display import display\n",
    "from scipy.signal import TransferFunction, bode, butter, filtfilt, freqs\n",
    "%matplotlib widget"
   ]
  },
  {
   "cell_type": "code",
   "execution_count": 9,
   "metadata": {
    "tags": []
   },
   "outputs": [
    {
     "data": {
      "application/vnd.jupyter.widget-view+json": {
       "model_id": "9ba661526c5f420f82635c19eaf06f79",
       "version_major": 2,
       "version_minor": 0
      },
      "text/plain": [
       "Output()"
      ]
     },
     "metadata": {},
     "output_type": "display_data"
    },
    {
     "data": {
      "application/vnd.jupyter.widget-view+json": {
       "model_id": "097f440fbbc64db791c39ce4f4b79804",
       "version_major": 2,
       "version_minor": 0
      },
      "text/plain": [
       "HBox(children=(VBox(children=(IntText(value=100, description='Fs:'), Select(description='Select First File:', …"
      ]
     },
     "metadata": {},
     "output_type": "display_data"
    }
   ],
   "source": [
    "texts0 = [[], []] # X(sequence) and Y(ecg signal) value\n",
    "\n",
    "########################\n",
    "files = listdir(Path().absolute())\n",
    "temp = []\n",
    "for file in files:\n",
    "    if splitext(file)[1] == \".txt\":\n",
    "        temp.append(file)\n",
    "files = temp\n",
    "\n",
    "#########################\n",
    "select_signal = widgets.Select(\n",
    "    options=files,\n",
    "    description='Select First File:',\n",
    "    disabled=False\n",
    ")\n",
    "signal_length = widgets.Text(value='0', disabled=True)\n",
    "\n",
    "########################\n",
    "button_select_signal = widgets.Button(description='Select Signal')\n",
    "def on_button_select_signal_clicked(change):\n",
    "    with open(select_signal.get_interact_value(), \"r\") as file:\n",
    "        text_file = file.readlines()\n",
    "    texts0[0] = arange(len(text_file))\n",
    "    try:\n",
    "        texts0[1] = [float(x.replace(\"\\n\", \"\")) for x in text_file]\n",
    "    except ValueError:\n",
    "        print(\"Please select single column data file. File Read Error!\")\n",
    "        return\n",
    "    \n",
    "    with out_2:\n",
    "        global plot1\n",
    "        plot1.set_data(texts0[0], texts0[1])\n",
    "        fig0_ax.set_xlim([0, len(texts0[0])])\n",
    "        fig0_ax.set_ylim([min(texts0[1]), max(texts0[1])])\n",
    "        \n",
    "    signal_length.value = f\"{len(texts0[0])}\"\n",
    "    with out_3:\n",
    "        out_3.clear_output()\n",
    "        print(\"Signal Selected!\")  \n",
    "button_select_signal.on_click(on_button_select_signal_clicked)\n",
    "\n",
    "########################\n",
    "out_1 = widgets.Output()\n",
    "with out_1:\n",
    "    print(\"Please select a signal and frequency sampling\")\n",
    "int_frequency_sampling = widgets.IntText(\n",
    "    value=100,\n",
    "    description='Fs:',\n",
    "    disabled=False\n",
    ")\n",
    "\n",
    "########################\n",
    "out_2 = widgets.Output()\n",
    "with out_2:\n",
    "    fig0, fig0_ax = plt.subplots(nrows=1, ncols=1)\n",
    "    fig0_ax.set(xlabel=\"sequence\", ylabel=\"amplitude\", title=\"Signal\")\n",
    "    plot1, = fig0_ax.plot([0,1,2], [0,0,0])\n",
    "    plt.tight_layout()\n",
    "    \n",
    "########################    \n",
    "out_3 = widgets.Output()\n",
    "\n",
    "\n",
    "vertical_box_1 = widgets.VBox([int_frequency_sampling, select_signal, signal_length, button_select_signal, out_3])\n",
    "horizontal_box = widgets.HBox([vertical_box_1, out_2])\n",
    "display(out_1, horizontal_box)\n",
    "\n"
   ]
  },
  {
   "cell_type": "code",
   "execution_count": null,
   "metadata": {
    "tags": []
   },
   "outputs": [],
   "source": [
    "def low_pass_filter(self):\n",
    "        nyquist_frequency_sampling = 0.5 * int_frequency_sampling.get_interact_value()\n",
    "        low = frequency_lpf / nyquist_frequency_sampling\n",
    "        b, a = butter(2, low, 'lowpass', analog=False)\n",
    "        w, h = freqs(b, a)\n",
    "        plot2.set_data(w, 20 * log10(abs(h))).setLogMode(xMode=True, yMode=False)\n",
    "        \n",
    "        data = filtfilt(b, a, ankle)\n",
    "        self.graphAnkle.clear()\n",
    "        self.graphAnkle.plot(arange(len(ankle)), ankle, pen=(1, 2))\n",
    "        self.graphAnkle.plot(arange(len(data)), data, pen=(2, 2))"
   ]
  }
 ],
 "metadata": {
  "interpreter": {
   "hash": "916dbcbb3f70747c44a77c7bcd40155683ae19c65e1c03b4aa3499c5328201f1"
  },
  "kernelspec": {
   "display_name": "Python 3",
   "language": "python",
   "name": "python3"
  },
  "language_info": {
   "codemirror_mode": {
    "name": "ipython",
    "version": 3
   },
   "file_extension": ".py",
   "mimetype": "text/x-python",
   "name": "python",
   "nbconvert_exporter": "python",
   "pygments_lexer": "ipython3",
   "version": "3.8.10"
  }
 },
 "nbformat": 4,
 "nbformat_minor": 4
}
