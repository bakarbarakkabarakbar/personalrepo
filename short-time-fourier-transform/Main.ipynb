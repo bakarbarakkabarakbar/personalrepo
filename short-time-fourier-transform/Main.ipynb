{
    "cells": [
        {
            "cell_type": "code",
            "execution_count": 2,
            "source": [
                "import ipywidgets as widgets\n",
                "import matplotlib.pyplot as plt\n",
                "%matplotlib widget"
            ],
            "outputs": [],
            "metadata": {}
        },
        {
            "cell_type": "code",
            "execution_count": 16,
            "source": [
                "texts = [[], []]\n",
                "\n",
                "with open(\"data.txt\", \"r\") as file:\n",
                "  textfile = file.readlines()\n",
                "\n",
                "for text in textfile:\n",
                "    text = text.split('\\t')\n",
                "    text[1] = text[1].replace('\\n',\"\")\n",
                "    texts[0].append(float(text[0]))\n",
                "    texts[1].append(float(text[1]))\n",
                "\n",
                "\n",
                "fig = plt.figure()\n",
                "ax0 = fig.add_axes([0.1,0.1,0.85,0.9], xlabel=\"sequence\", ylabel=\"amplitude\", title=\"ElectroCardioGram Signal\")\n",
                "ax0.plot(texts[0], texts[1])\n",
                "plt.show()"
            ],
            "outputs": [
                {
                    "output_type": "display_data",
                    "data": {
                        "text/plain": [
                            "Canvas(toolbar=Toolbar(toolitems=[('Home', 'Reset original view', 'home', 'home'), ('Back', 'Back to previous …"
                        ],
                        "application/vnd.jupyter.widget-view+json": {
                            "version_major": 2,
                            "version_minor": 0,
                            "model_id": "77ded96e5e6c424c83712bc7711ee9af"
                        }
                    },
                    "metadata": {}
                }
            ],
            "metadata": {}
        },
        {
            "cell_type": "code",
            "execution_count": null,
            "source": [],
            "outputs": [],
            "metadata": {}
        }
    ],
    "metadata": {
        "orig_nbformat": 4,
        "language_info": {
            "name": "python",
            "version": "3.8.10",
            "mimetype": "text/x-python",
            "codemirror_mode": {
                "name": "ipython",
                "version": 3
            },
            "pygments_lexer": "ipython3",
            "nbconvert_exporter": "python",
            "file_extension": ".py"
        },
        "kernelspec": {
            "name": "python3",
            "display_name": "Python 3.8.10 64-bit"
        },
        "interpreter": {
            "hash": "916dbcbb3f70747c44a77c7bcd40155683ae19c65e1c03b4aa3499c5328201f1"
        }
    },
    "nbformat": 4,
    "nbformat_minor": 2
}