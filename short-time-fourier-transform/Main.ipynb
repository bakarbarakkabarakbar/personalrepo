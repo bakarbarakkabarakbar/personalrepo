{
    "cells": [
        {
            "cell_type": "code",
            "execution_count": 14,
            "source": [
                "import ipywidgets as widgets\n",
                "import matplotlib.pyplot as plt\n",
                "from numpy import zeros, hanning, hamming, ones, arange, fft, transpose\n",
                "%matplotlib widget"
            ],
            "outputs": [],
            "metadata": {}
        },
        {
            "cell_type": "code",
            "execution_count": 15,
            "source": [
                "texts = [[], []]\n",
                "\n",
                "with open(\"data.txt\", \"r\") as file:\n",
                "  textfile = file.readlines()\n",
                "\n",
                "for text in textfile:\n",
                "    text = text.split('\\t')\n",
                "    text[1] = text[1].replace('\\n',\"\")\n",
                "    texts[0].append(float(text[0]))\n",
                "    texts[1].append(float(text[1]))\n",
                "\n",
                "\n",
                "fig = plt.figure()\n",
                "ax0 = fig.add_axes([0.1,0.1,0.85,0.85], xlabel=\"sequence\", ylabel=\"amplitude\", title=\"ElectroCardioGram Signal\")\n",
                "ax0.plot(texts[0], texts[1])\n",
                "plt.show()"
            ],
            "outputs": [
                {
                    "output_type": "display_data",
                    "data": {
                        "text/plain": [
                            "Canvas(toolbar=Toolbar(toolitems=[('Home', 'Reset original view', 'home', 'home'), ('Back', 'Back to previous …"
                        ],
                        "application/vnd.jupyter.widget-view+json": {
                            "version_major": 2,
                            "version_minor": 0,
                            "model_id": "c8259b0a39614cc5ba9b3b30fa986224"
                        }
                    },
                    "metadata": {}
                }
            ],
            "metadata": {}
        },
        {
            "cell_type": "code",
            "execution_count": 16,
            "source": [
                "def shorttimefouriertransform(var, vartype, typelength, overlaplength):\n",
                "    result = []\n",
                "    windowedvar = zeros(len(var))\n",
                "    windowfunction = windowtypefunction(vartype, typelength)\n",
                "    \n",
                "    for i in arange(0, len(var), (typelength-overlaplength)):\n",
                "        for j in range(typelength):\n",
                "            if i + j >= len(var):\n",
                "                break\n",
                "            windowedvar[i+j] = var[i+j] * windowfunction[j]\n",
                "        result.append(abs(fft.fft(windowedvar)))\n",
                "        windowedvar = zeros(len(var))\n",
                "\n",
                "    return transpose(result)"
            ],
            "outputs": [],
            "metadata": {}
        },
        {
            "cell_type": "code",
            "execution_count": 17,
            "source": [
                "def windowtypefunction(vartype, typelength):\n",
                "    if vartype == \"Rectangular\":\n",
                "        return ones(typelength)\n",
                "    elif vartype == \"Hanning\":\n",
                "        return hanning(typelength)\n",
                "    elif vartype == \"Hamming\":\n",
                "        return hamming(typelength)"
            ],
            "outputs": [],
            "metadata": {}
        },
        {
            "cell_type": "code",
            "execution_count": 18,
            "source": [
                "selectwindowtype = widgets.Select(\n",
                "    options=['Rectangular', 'Hanning', 'Hamming'],\n",
                "    value='Rectangular',\n",
                "    description='Window Type:',\n",
                "    disabled=False\n",
                ")\n",
                "\n",
                "selectwindowlength = widgets.IntText(\n",
                "    value=50,\n",
                "    description='Window Length:',\n",
                "    disabled=False\n",
                ")\n",
                "\n",
                "selectoverlaplength = widgets.IntText(\n",
                "    value=25,\n",
                "    description='Overlap Window Length:',\n",
                "    disabled=False\n",
                ")\n",
                "\n",
                "display(selectwindowtype, selectwindowlength, selectoverlaplength)\n",
                "\n",
                "\n"
            ],
            "outputs": [
                {
                    "output_type": "display_data",
                    "data": {
                        "text/plain": [
                            "Select(description='Window Type:', options=('Rectangular', 'Hanning', 'Hamming'), value='Rectangular')"
                        ],
                        "application/vnd.jupyter.widget-view+json": {
                            "version_major": 2,
                            "version_minor": 0,
                            "model_id": "0ade6ee555984eae95691503e73813d7"
                        }
                    },
                    "metadata": {}
                },
                {
                    "output_type": "display_data",
                    "data": {
                        "text/plain": [
                            "IntText(value=50, description='Window Length:')"
                        ],
                        "application/vnd.jupyter.widget-view+json": {
                            "version_major": 2,
                            "version_minor": 0,
                            "model_id": "7c28b52d2f964b5ba378ca030885c2ab"
                        }
                    },
                    "metadata": {}
                },
                {
                    "output_type": "display_data",
                    "data": {
                        "text/plain": [
                            "IntText(value=25, description='Overlap Window Length:')"
                        ],
                        "application/vnd.jupyter.widget-view+json": {
                            "version_major": 2,
                            "version_minor": 0,
                            "model_id": "b4a574c2a37c42d99119b255429d43e6"
                        }
                    },
                    "metadata": {}
                }
            ],
            "metadata": {}
        },
        {
            "cell_type": "code",
            "execution_count": 21,
            "source": [
                "result = shorttimefouriertransform(texts[1], selectwindowtype.get_interact_value(), selectwindowlength.get_interact_value(), selectoverlaplength.get_interact_value())\n",
                "fig = plt.figure()\n",
                "im1 = plt.imshow(result, aspect='auto')\n",
                "fig.colorbar(im1)\n",
                "plt.show()"
            ],
            "outputs": [
                {
                    "output_type": "display_data",
                    "data": {
                        "text/plain": [
                            "Canvas(toolbar=Toolbar(toolitems=[('Home', 'Reset original view', 'home', 'home'), ('Back', 'Back to previous …"
                        ],
                        "application/vnd.jupyter.widget-view+json": {
                            "version_major": 2,
                            "version_minor": 0,
                            "model_id": "6775812962b94428a09f2c7e8995429d"
                        }
                    },
                    "metadata": {}
                }
            ],
            "metadata": {}
        },
        {
            "cell_type": "code",
            "execution_count": null,
            "source": [],
            "outputs": [],
            "metadata": {}
        }
    ],
    "metadata": {
        "orig_nbformat": 4,
        "language_info": {
            "name": "python",
            "version": "3.8.10",
            "mimetype": "text/x-python",
            "codemirror_mode": {
                "name": "ipython",
                "version": 3
            },
            "pygments_lexer": "ipython3",
            "nbconvert_exporter": "python",
            "file_extension": ".py"
        },
        "kernelspec": {
            "name": "python3",
            "display_name": "Python 3.8.10 64-bit"
        },
        "interpreter": {
            "hash": "916dbcbb3f70747c44a77c7bcd40155683ae19c65e1c03b4aa3499c5328201f1"
        }
    },
    "nbformat": 4,
    "nbformat_minor": 2
}