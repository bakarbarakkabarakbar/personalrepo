{
    "cells": [
        {
            "cell_type": "code",
            "execution_count": 8,
            "source": [
                "import ipywidgets as widgets\n",
                "import matplotlib.pyplot as plt\n",
                "from numpy import zeros, hanning, hamming, ones, arange, fft, transpose, bartlett, blackman, kaiser\n",
                "from scipy.signal import flattop, tukey, welch\n",
                "from IPython.display import display\n",
                "%matplotlib widget"
            ],
            "outputs": [],
            "metadata": {}
        },
        {
            "cell_type": "code",
            "execution_count": 9,
            "source": [
                "texts = [[], []]\n",
                "\n",
                "with open(\"data.txt\", \"r\") as file:\n",
                "  textfile = file.readlines()\n",
                "\n",
                "for text in textfile:\n",
                "    text = text.split('\\t')\n",
                "    text[1] = text[1].replace('\\n',\"\")\n",
                "    texts[0].append(float(text[0]))\n",
                "    texts[1].append(float(text[1]))\n",
                "\n",
                "\n",
                "fig = plt.figure()\n",
                "ax0 = fig.add_axes([0.1,0.1,0.85,0.85], xlabel=\"sequence\", ylabel=\"amplitude\", title=\"ElectroCardioGram Signal\")\n",
                "ax0.plot(texts[0], texts[1])\n",
                "plt.show()"
            ],
            "outputs": [
                {
                    "output_type": "display_data",
                    "data": {
                        "text/plain": [
                            "Canvas(toolbar=Toolbar(toolitems=[('Home', 'Reset original view', 'home', 'home'), ('Back', 'Back to previous …"
                        ],
                        "application/vnd.jupyter.widget-view+json": {
                            "version_major": 2,
                            "version_minor": 0,
                            "model_id": "f18a2aadb59c415ab00055b6e61d9652"
                        }
                    },
                    "metadata": {}
                }
            ],
            "metadata": {}
        },
        {
            "cell_type": "code",
            "execution_count": 10,
            "source": [
                "def shorttimefouriertransform(var, vartype, typelength, overlaplength):\n",
                "    result = []\n",
                "    windowedvar = zeros(len(var))\n",
                "    windowfunction = windowtypefunction(vartype, typelength)\n",
                "    \n",
                "    for i in arange(0, len(var), (typelength-overlaplength)):\n",
                "        for j in range(typelength):\n",
                "            if i + j >= len(var):\n",
                "                break\n",
                "            windowedvar[i+j] = var[i+j] * windowfunction[j]\n",
                "        result.append(abs(fft.fft(windowedvar)))\n",
                "        windowedvar = zeros(len(var))\n",
                "\n",
                "    return transpose(result)"
            ],
            "outputs": [],
            "metadata": {}
        },
        {
            "cell_type": "code",
            "execution_count": 11,
            "source": [
                "def windowtypefunction(vartype, typelength):\n",
                "    if vartype == \"Rectangular/None\":\n",
                "        return ones(typelength)\n",
                "    elif vartype == \"Hanning\":\n",
                "        return hanning(typelength)\n",
                "    elif vartype == \"Hamming\":\n",
                "        return hamming(typelength)\n",
                "    elif vartype == \"Bartlett\":\n",
                "        return bartlett(typelength)\n",
                "    elif vartype == \"Blackman\":\n",
                "        return blackman(typelength)\n",
                "    elif vartype == \"Flat Top\":\n",
                "        return flattop(typelength)\n",
                "    elif vartype == \"Tukey\":\n",
                "        return tukey(typelength)"
            ],
            "outputs": [],
            "metadata": {}
        },
        {
            "cell_type": "code",
            "execution_count": 15,
            "source": [
                "selectwindowtype = widgets.Select(\n",
                "    options=['Bartlett', 'Blackman', 'Flat Top', 'Hanning', 'Hamming', 'Rectangular/None', 'Tukey'],\n",
                "    value='Bartlett',\n",
                "    description='Window Type:',\n",
                "    disabled=False\n",
                ")\n",
                "\n",
                "selectwindowlength = widgets.IntText(\n",
                "    value=50,\n",
                "    description='Window Length:',\n",
                "    disabled=False\n",
                ")\n",
                "\n",
                "selectoverlaplength = widgets.IntText(\n",
                "    value=25,\n",
                "    description='Overlap Window Length:',\n",
                "    disabled=False\n",
                ")\n",
                "\n",
                "out = widgets.Output()\n",
                "fig = plt.figure()\n",
                "windowfunction = windowtypefunction(selectwindowtype.get_interact_value(), selectwindowlength.get_interact_value())\n",
                "ax0 = fig.add_axes([0.1,0.1,0.85,0.85], xlabel=\"sequence\", ylabel=\"amplitude\", title=\"Window Signal\")\n",
                "ax0.plot(arange(len(windowfunction)), windowfunction)\n",
                "plt.show()\n",
                "\n",
                "def on_change(change):\n",
                "    with out:\n",
                "        # if change['type'] == 'change' and change['name'] == 'value':\n",
                "        windowfunction = windowtypefunction(selectwindowtype.get_interact_value(), selectwindowlength.get_interact_value())\n",
                "        fig.clear()\n",
                "        ax0 = fig.add_axes([0.1,0.1,0.85,0.85], xlabel=\"sequence\", ylabel=\"amplitude\", title=\"Window Signal\")\n",
                "        ax0.plot(arange(len(windowfunction)), windowfunction)\n",
                "\n",
                "selectwindowtype.observe(on_change)\n",
                "selectwindowlength.observe(on_change)\n",
                "display(selectwindowtype, selectwindowlength, selectoverlaplength, out)"
            ],
            "outputs": [
                {
                    "output_type": "display_data",
                    "data": {
                        "text/plain": [
                            "Canvas(toolbar=Toolbar(toolitems=[('Home', 'Reset original view', 'home', 'home'), ('Back', 'Back to previous …"
                        ],
                        "application/vnd.jupyter.widget-view+json": {
                            "version_major": 2,
                            "version_minor": 0,
                            "model_id": "9f5a7ddc2eba46d792914946b08d1d4d"
                        }
                    },
                    "metadata": {}
                },
                {
                    "output_type": "display_data",
                    "data": {
                        "text/plain": [
                            "Select(description='Window Type:', options=('Bartlett', 'Blackman', 'Flat Top', 'Hanning', 'Hamming', 'Rectang…"
                        ],
                        "application/vnd.jupyter.widget-view+json": {
                            "version_major": 2,
                            "version_minor": 0,
                            "model_id": "5c27e21e86b14ac6af147d0fffb38287"
                        }
                    },
                    "metadata": {}
                },
                {
                    "output_type": "display_data",
                    "data": {
                        "text/plain": [
                            "IntText(value=50, description='Window Length:')"
                        ],
                        "application/vnd.jupyter.widget-view+json": {
                            "version_major": 2,
                            "version_minor": 0,
                            "model_id": "2fea4338d8c143a085e8b9ad08228d61"
                        }
                    },
                    "metadata": {}
                },
                {
                    "output_type": "display_data",
                    "data": {
                        "text/plain": [
                            "IntText(value=25, description='Overlap Window Length:')"
                        ],
                        "application/vnd.jupyter.widget-view+json": {
                            "version_major": 2,
                            "version_minor": 0,
                            "model_id": "b1acb308c58242288a88861842fb1327"
                        }
                    },
                    "metadata": {}
                },
                {
                    "output_type": "display_data",
                    "data": {
                        "text/plain": [
                            "Output()"
                        ],
                        "application/vnd.jupyter.widget-view+json": {
                            "version_major": 2,
                            "version_minor": 0,
                            "model_id": "d8721f94189840088cfe4fde986030cf"
                        }
                    },
                    "metadata": {}
                }
            ],
            "metadata": {}
        },
        {
            "cell_type": "code",
            "execution_count": 22,
            "source": [
                "result = shorttimefouriertransform(texts[1], selectwindowtype.get_interact_value(), selectwindowlength.get_interact_value(), selectoverlaplength.get_interact_value())\n",
                "fig1 = plt.figure()\n",
                "im1 = plt.imshow(result, aspect='auto', extent=[0, 2, 0, 2000])\n",
                "fig1.colorbar(im1)\n",
                "plt.show()"
            ],
            "outputs": [
                {
                    "output_type": "display_data",
                    "data": {
                        "text/plain": [
                            "Canvas(toolbar=Toolbar(toolitems=[('Home', 'Reset original view', 'home', 'home'), ('Back', 'Back to previous …"
                        ],
                        "application/vnd.jupyter.widget-view+json": {
                            "version_major": 2,
                            "version_minor": 0,
                            "model_id": "579ba94415484470b489b18610620566"
                        }
                    },
                    "metadata": {}
                }
            ],
            "metadata": {}
        }
    ],
    "metadata": {
        "orig_nbformat": 4,
        "language_info": {
            "name": "python",
            "version": "3.8.10",
            "mimetype": "text/x-python",
            "codemirror_mode": {
                "name": "ipython",
                "version": 3
            },
            "pygments_lexer": "ipython3",
            "nbconvert_exporter": "python",
            "file_extension": ".py"
        },
        "kernelspec": {
            "name": "python3",
            "display_name": "Python 3.8.10 64-bit"
        },
        "interpreter": {
            "hash": "916dbcbb3f70747c44a77c7bcd40155683ae19c65e1c03b4aa3499c5328201f1"
        }
    },
    "nbformat": 4,
    "nbformat_minor": 2
}