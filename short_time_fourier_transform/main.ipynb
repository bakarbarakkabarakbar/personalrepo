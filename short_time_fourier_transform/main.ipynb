{
 "cells": [
  {
   "cell_type": "code",
   "execution_count": null,
   "metadata": {},
   "outputs": [],
   "source": [
    "import ipywidgets as widgets\n",
    "import matplotlib.pyplot as plt\n",
    "from numpy import zeros, hanning, hamming, ones, arange, fft, transpose, bartlett, blackman, kaiser\n",
    "from scipy.signal import flattop, tukey, welch\n",
    "from IPython.display import display\n",
    "%matplotlib widget"
   ]
  },
  {
   "cell_type": "code",
   "execution_count": null,
   "metadata": {},
   "outputs": [],
   "source": [
    "texts = [[], []]\n",
    "\n",
    "with open(\"data.txt\", \"r\") as file:\n",
    "  textfile = file.readlines()\n",
    "\n",
    "for text in textfile:\n",
    "    text = text.split('\\t')\n",
    "    text[1] = text[1].replace('\\n',\"\")\n",
    "    texts[0].append(float(text[0]))\n",
    "    texts[1].append(float(text[1]))\n",
    "\n",
    "\n",
    "fig = plt.figure()\n",
    "ax0 = fig.add_axes([0.1,0.1,0.85,0.85], xlabel=\"sequence\", ylabel=\"amplitude\", title=\"ElectroCardioGram Signal\")\n",
    "ax0.plot(texts[0], texts[1])\n",
    "plt.show()"
   ]
  },
  {
   "cell_type": "code",
   "execution_count": null,
   "metadata": {},
   "outputs": [],
   "source": [
    "def shorttimefouriertransform(var, vartype, typelength, overlaplength):\n",
    "    result = []\n",
    "    windowedvar = zeros(len(var))\n",
    "    windowfunction = windowtypefunction(vartype, typelength)\n",
    "    \n",
    "    for i in arange(0, len(var), (typelength-overlaplength)):\n",
    "        for j in range(typelength):\n",
    "            if i + j >= len(var):\n",
    "                break\n",
    "            windowedvar[i+j] = var[i+j] * windowfunction[j]\n",
    "        result.append(abs(fft.fft(windowedvar)))\n",
    "        windowedvar = zeros(len(var))\n",
    "\n",
    "    return transpose(result)"
   ]
  },
  {
   "cell_type": "code",
   "execution_count": null,
   "metadata": {},
   "outputs": [],
   "source": [
    "def windowtypefunction(vartype, typelength):\n",
    "    if vartype == \"Rectangular/None\":\n",
    "        return ones(typelength)\n",
    "    elif vartype == \"Hanning\":\n",
    "        return hanning(typelength)\n",
    "    elif vartype == \"Hamming\":\n",
    "        return hamming(typelength)\n",
    "    elif vartype == \"Bartlett\":\n",
    "        return bartlett(typelength)\n",
    "    elif vartype == \"Blackman\":\n",
    "        return blackman(typelength)\n",
    "    elif vartype == \"Flat Top\":\n",
    "        return flattop(typelength)\n",
    "    elif vartype == \"Tukey\":\n",
    "        return tukey(typelength)"
   ]
  },
  {
   "cell_type": "code",
   "execution_count": null,
   "metadata": {},
   "outputs": [],
   "source": [
    "selectwindowtype = widgets.Select(\n",
    "    options=['Bartlett', 'Blackman', 'Flat Top', 'Hanning', 'Hamming', 'Rectangular/None', 'Tukey'],\n",
    "    value='Bartlett',\n",
    "    description='Window Type:',\n",
    "    disabled=False\n",
    ")\n",
    "\n",
    "selectwindowlength = widgets.IntText(\n",
    "    value=50,\n",
    "    description='Window Length:',\n",
    "    disabled=False\n",
    ")\n",
    "\n",
    "selectoverlaplength = widgets.IntText(\n",
    "    value=25,\n",
    "    description='Overlap Window Length:',\n",
    "    disabled=False\n",
    ")\n",
    "\n",
    "out = widgets.Output()\n",
    "fig = plt.figure()\n",
    "windowfunction = windowtypefunction(selectwindowtype.get_interact_value(), selectwindowlength.get_interact_value())\n",
    "ax0 = fig.add_axes([0.1,0.1,0.85,0.85], xlabel=\"sequence\", ylabel=\"amplitude\", title=\"Window Signal\")\n",
    "ax0.plot(arange(len(windowfunction)), windowfunction)\n",
    "plt.show()\n",
    "\n",
    "def on_change(change):\n",
    "    with out:\n",
    "        # if change['type'] == 'change' and change['name'] == 'value':\n",
    "        windowfunction = windowtypefunction(selectwindowtype.get_interact_value(), selectwindowlength.get_interact_value())\n",
    "        fig.clear()\n",
    "        ax0 = fig.add_axes([0.1,0.1,0.85,0.85], xlabel=\"sequence\", ylabel=\"amplitude\", title=\"Window Signal\")\n",
    "        ax0.plot(arange(len(windowfunction)), windowfunction)\n",
    "\n",
    "selectwindowtype.observe(on_change)\n",
    "selectwindowlength.observe(on_change)\n",
    "display(selectwindowtype, selectwindowlength, selectoverlaplength, out)"
   ]
  },
  {
   "cell_type": "code",
   "execution_count": null,
   "metadata": {},
   "outputs": [],
   "source": [
    "result = shorttimefouriertransform(texts[1], selectwindowtype.get_interact_value(), selectwindowlength.get_interact_value(), selectoverlaplength.get_interact_value())\n",
    "fig1 = plt.figure()\n",
    "im1 = plt.imshow(result, aspect='auto', extent=[0, 2, 0, 2000])\n",
    "fig1.colorbar(im1)\n",
    "plt.show()"
   ]
  }
 ],
 "metadata": {
  "interpreter": {
   "hash": "916dbcbb3f70747c44a77c7bcd40155683ae19c65e1c03b4aa3499c5328201f1"
  },
  "kernelspec": {
   "display_name": "Python 3",
   "language": "python",
   "name": "python3"
  },
  "language_info": {
   "codemirror_mode": {
    "name": "ipython",
    "version": 3
   },
   "file_extension": ".py",
   "mimetype": "text/x-python",
   "name": "python",
   "nbconvert_exporter": "python",
   "pygments_lexer": "ipython3",
   "version": "3.8.10"
  }
 },
 "nbformat": 4,
 "nbformat_minor": 4
}
