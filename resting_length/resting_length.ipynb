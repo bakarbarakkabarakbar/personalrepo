{
 "cells": [
  {
   "cell_type": "code",
   "execution_count": 2,
   "id": "59469afe-3116-49d8-baa4-570f4ec8ef6c",
   "metadata": {},
   "outputs": [],
   "source": [
    "import matplotlib.pyplot as plt\n",
    "from numpy import arange, linspace, pi, cos, sin, sqrt, linspace, array, transpose\n",
    "import ipywidgets as widgets\n",
    "from IPython.display import display\n",
    "from multiprocessing.pool import ThreadPool\n",
    "from time import process_time\n",
    "%matplotlib widget"
   ]
  },
  {
   "cell_type": "code",
   "execution_count": 7,
   "id": "1eee8ef5-d84a-4e00-a0b0-056d2a7a8653",
   "metadata": {},
   "outputs": [
    {
     "data": {
      "application/vnd.jupyter.widget-view+json": {
       "model_id": "3e880db1bdc246ba8762f9e4b4bfbc4f",
       "version_major": 2,
       "version_minor": 0
      },
      "text/plain": [
       "Text(value='Press Button for Operation', disabled=True)"
      ]
     },
     "metadata": {},
     "output_type": "display_data"
    },
    {
     "data": {
      "application/vnd.jupyter.widget-view+json": {
       "model_id": "c02c2c57fc5c4afe9d4534ee43d1ceb5",
       "version_major": 2,
       "version_minor": 0
      },
      "text/plain": [
       "Button(description='Relationship', style=ButtonStyle())"
      ]
     },
     "metadata": {},
     "output_type": "display_data"
    },
    {
     "data": {
      "application/vnd.jupyter.widget-view+json": {
       "model_id": "906ff5eec63045118da88561180e8ef2",
       "version_major": 2,
       "version_minor": 0
      },
      "text/plain": [
       "HBox(children=(Output(), Output()))"
      ]
     },
     "metadata": {},
     "output_type": "display_data"
    },
    {
     "data": {
      "application/vnd.jupyter.widget-view+json": {
       "model_id": "ed14401cdd354948bd495ee6c754d9bd",
       "version_major": 2,
       "version_minor": 0
      },
      "text/plain": [
       "Output()"
      ]
     },
     "metadata": {},
     "output_type": "display_data"
    }
   ],
   "source": [
    "c = 2.5\n",
    "vmax = 3\n",
    "lop = 1\n",
    "\n",
    "def velocity(lop):\n",
    "    fl_relationship_result = fl_relationship(lop)\n",
    "    result = [[], []]\n",
    "    result[0] = [((vmax-v)/(vmax + 2.5*v)) for v in linspace(-1, 0.5, 100)]\n",
    "    result[1] = [(1.3 - 0.3*((vmax - c*vmax)/(1 + c**2*v))) for v in linspace(-1, 0.5, 100)]\n",
    "    \n",
    "    result_3d = []\n",
    "    for l in linspace(0.5*lop, 1.5*lop, 100):\n",
    "        temp = []\n",
    "        for v in linspace(-2, 2, 400):\n",
    "            if v <= 0:\n",
    "                temp += [(vmax+v)/(vmax - 2.5*v)]\n",
    "            else:\n",
    "                temp += [1.3 - 0.1*((vmax - v)/(1 + c**2*v))]\n",
    "        result_3d += [temp]\n",
    "    return result, result_3d\n",
    "\n",
    "def fl_relationship(lop):\n",
    "    return [(1 - ((x - lop)/0.5*lop)**2) for x in linspace(0.5*lop, 1.5*lop, 100)]\n",
    "                                  \n",
    "########################  Operation\n",
    "opening_text = widgets.Text(value='Press Button for Operation',\n",
    "                       disabled=True)\n",
    "button_relationship = widgets.Button(description='Relationship')\n",
    "def on_button_relationsip(change):\n",
    "    pool = ThreadPool(processes=4)\n",
    "    t_0 = process_time()\n",
    "    async_result_0 = pool.apply_async(fl_relationship, (lop,))\n",
    "    fl_relationship_result = async_result_0.get()\n",
    "    async_result_1 = pool.apply_async(velocity, (lop,))\n",
    "    fv_relationship_result, fv_relationship_result_2d = async_result_1.get()\n",
    "    fv_relationship_result = fv_relationship_result_2d[0]\n",
    "    elapsed_time_0 = process_time() - t_0\n",
    "    \n",
    "    with out_0:\n",
    "        plot_0.set_data(linspace(0.5*lop, 1.5*lop, len(fl_relationship_result)), fl_relationship_result)\n",
    "        fig_0_ax.set_xlim([0.5*lop-1, 1.5*lop+1])\n",
    "        fig_0_ax.set_ylim([min(fl_relationship_result), max(fl_relationship_result)])\n",
    "    with out_1:\n",
    "        plot_1.set_data(linspace(-1, 0.5, len(fv_relationship_result)), fv_relationship_result)\n",
    "        fig_1_ax.set_xlim([-1, 0.5])\n",
    "        fig_1_ax.set_ylim([min(fv_relationship_result), max(fv_relationship_result)])\n",
    "    with out_2:\n",
    "        plt.imshow(transpose(fv_relationship_result_2d), interpolation='none', extent=[0.5*lop, 1.5*lop, -1, 0.5])\n",
    "        plt.colorbar()\n",
    "        plt.tight_layout()\n",
    "button_relationship.on_click(on_button_relationsip)\n",
    "                                  \n",
    "######################## Widget Outputs\n",
    "out_0 = widgets.Output()\n",
    "with out_0:\n",
    "    try:\n",
    "        plt.close(fig_0)\n",
    "    except:\n",
    "        pass\n",
    "    fig_0, fig_0_ax = plt.subplots(nrows=1, ncols=1)\n",
    "    fig_0_ax.set(xlabel=\"norm length\", ylabel=\"norm force\", title=\"FL Relationship\")\n",
    "    plot_0, = fig_0_ax.plot([0,1,2], [0,0,0])\n",
    "    plt.tight_layout()\n",
    "out_1 = widgets.Output()\n",
    "with out_1:\n",
    "    try:\n",
    "        plt.close(fig_1)\n",
    "    except:\n",
    "        pass\n",
    "    fig_1, fig_1_ax = plt.subplots(nrows=1, ncols=1)\n",
    "    fig_1_ax.set(xlabel=\"norm velocity\", ylabel=\"norm force\", title=\"FV Relationship\")\n",
    "    plot_1, = fig_1_ax.plot([0,1,2], [0,0,0])\n",
    "    plt.tight_layout()\n",
    "out_2 = widgets.Output()\n",
    "with out_2:\n",
    "    try:\n",
    "        plt.close(fig_2)\n",
    "    except:\n",
    "        pass\n",
    "    fig_2, fig_2_ax = plt.subplots(nrows=1, ncols=1)\n",
    "    fig_2_ax.set(xlabel=\"norm length\", ylabel=\"norm velocity\", title=\"Possible FV Relationship\")\n",
    "    plt.tight_layout()\n",
    "\n",
    "horizontal_box_0 = widgets.HBox([out_0, out_1])\n",
    "display(opening_text, button_relationship, horizontal_box_0, out_2)\n",
    "                                  "
   ]
  },
  {
   "cell_type": "code",
   "execution_count": null,
   "id": "d69e3009-5582-438e-adee-e8e0921d0ee5",
   "metadata": {},
   "outputs": [],
   "source": []
  }
 ],
 "metadata": {
  "kernelspec": {
   "display_name": "Python 3.8.10 64-bit",
   "language": "python",
   "name": "python3810jvsc74a57bd0916dbcbb3f70747c44a77c7bcd40155683ae19c65e1c03b4aa3499c5328201f1"
  },
  "language_info": {
   "codemirror_mode": {
    "name": "ipython",
    "version": 3
   },
   "file_extension": ".py",
   "mimetype": "text/x-python",
   "name": "python",
   "nbconvert_exporter": "python",
   "pygments_lexer": "ipython3",
   "version": "3.8.10"
  }
 },
 "nbformat": 4,
 "nbformat_minor": 5
}
