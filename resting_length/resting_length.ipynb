{
 "cells": [
  {
   "cell_type": "code",
   "execution_count": 9,
   "id": "59469afe-3116-49d8-baa4-570f4ec8ef6c",
   "metadata": {},
   "outputs": [],
   "source": [
    "import matplotlib.pyplot as plt\n",
    "from numpy import zeros, arange, fft, linspace, pi, cos, sin, sqrt, array, log10, amax, linspace, log10, unwrap, angle, exp, arctan\n",
    "from numpy.random import normal as noise_gaussian\n",
    "from pathlib import Path\n",
    "from math import radians\n",
    "from os import listdir\n",
    "from os.path import splitext\n",
    "import ipywidgets as widgets\n",
    "from IPython.display import display\n",
    "from multiprocessing.pool import ThreadPool\n",
    "from time import process_time\n",
    "from scipy.signal import TransferFunction, bode, butter, filtfilt, freqs\n",
    "%matplotlib widget"
   ]
  },
  {
   "cell_type": "code",
   "execution_count": 24,
   "id": "1eee8ef5-d84a-4e00-a0b0-056d2a7a8653",
   "metadata": {},
   "outputs": [
    {
     "data": {
      "application/vnd.jupyter.widget-view+json": {
       "model_id": "d7d819069f3740ac845a1f118d7f8da5",
       "version_major": 2,
       "version_minor": 0
      },
      "text/plain": [
       "Text(value='Press Button for Operation', disabled=True)"
      ]
     },
     "metadata": {},
     "output_type": "display_data"
    },
    {
     "data": {
      "application/vnd.jupyter.widget-view+json": {
       "model_id": "4b8ef064a7544fb297e7a934138f4b72",
       "version_major": 2,
       "version_minor": 0
      },
      "text/plain": [
       "Button(description='Relationship', style=ButtonStyle())"
      ]
     },
     "metadata": {},
     "output_type": "display_data"
    },
    {
     "data": {
      "application/vnd.jupyter.widget-view+json": {
       "model_id": "bcb149602567441499738311d3c9f10d",
       "version_major": 2,
       "version_minor": 0
      },
      "text/plain": [
       "Output()"
      ]
     },
     "metadata": {},
     "output_type": "display_data"
    }
   ],
   "source": [
    "c = 2.5\n",
    "vmax = 3\n",
    "lop = 1\n",
    "\n",
    "def velocity(l, lop):\n",
    "    result = []\n",
    "    for v in linspace(-1, 0.5, 100):\n",
    "        if l <= lop:\n",
    "            result += [(vmax-v)/(vmax + 2.5*v)]\n",
    "        else:\n",
    "            result += [1.3 - 0.3*((vmax - c*vmax)/(1 + c**2*v))]\n",
    "    return result\n",
    "\n",
    "def fl_relationship(lop):\n",
    "    return [(1 - ((x - lop)/0.5*lop)**2) for x in linspace(0.5*lop, 1.5*lop, 100)]\n",
    "                                  \n",
    "########################  Operation\n",
    "opening_text = widgets.Text(value='Press Button for Operation',\n",
    "                       disabled=True)\n",
    "button_relationship = widgets.Button(description='Relationship')\n",
    "def on_button_relationsip(change):\n",
    "    pool = ThreadPool(processes=4)\n",
    "    t_0 = process_time()\n",
    "    async_result_0 = pool.apply_async(fl_relationship, (lop,))\n",
    "    fl_relationship_result = async_result_0.get()\n",
    "    async_result_1 = pool.apply_async(velocity, (lop+1, lop))\n",
    "    fv_relationship_result= async_result_1.get()\n",
    "    elapsed_time_0 = process_time() - t_0\n",
    "    \n",
    "    with out_0:\n",
    "        plot_0.set_data(linspace(0.5*lop, 1.5*lop, len(fl_relationship_result)), fl_relationship_result)\n",
    "        fig_0_ax[0].set_xlim([0.5*lop, 1.5*lop])\n",
    "        fig_0_ax[0].set_ylim([min(fl_relationship_result), max(fl_relationship_result)])\n",
    "        plot_1.set_data(linspace(-1, 0.5, len(fv_relationship_result)), fv_relationship_result)\n",
    "        fig_0_ax[1].set_xlim([-1, 0.5])\n",
    "        fig_0_ax[1].set_ylim([min(fv_relationship_result), max(fv_relationship_result)])\n",
    "button_relationship.on_click(on_button_relationsip)\n",
    "                                  \n",
    "######################## Widget Outputs\n",
    "out_0 = widgets.Output()\n",
    "with out_0:\n",
    "    try:\n",
    "        plt.close(fig_0)\n",
    "    except:\n",
    "        pass\n",
    "    fig_0, fig_0_ax = plt.subplots(nrows=2, ncols=1)\n",
    "    fig_0_ax[0].set(xlabel=\"norm length\", ylabel=\"norm force\", title=\"FL Relationship\")\n",
    "    fig_0_ax[1].set(xlabel=\"norm velocity\", ylabel=\"norm force\", title=\"FV Relationship\")\n",
    "    plot_0, = fig_0_ax[0].plot([0,1,2], [0,0,0])\n",
    "    plot_1, = fig_0_ax[1].plot([0,1,2], [0,0,0])\n",
    "    plt.tight_layout()\n",
    "\n",
    "display(opening_text, button_relationship, out_0)\n",
    "                                  "
   ]
  },
  {
   "cell_type": "code",
   "execution_count": null,
   "id": "d69e3009-5582-438e-adee-e8e0921d0ee5",
   "metadata": {},
   "outputs": [],
   "source": []
  }
 ],
 "metadata": {
  "kernelspec": {
   "display_name": "Python 3.8.10 64-bit",
   "language": "python",
   "name": "python3810jvsc74a57bd0916dbcbb3f70747c44a77c7bcd40155683ae19c65e1c03b4aa3499c5328201f1"
  },
  "language_info": {
   "codemirror_mode": {
    "name": "ipython",
    "version": 3
   },
   "file_extension": ".py",
   "mimetype": "text/x-python",
   "name": "python",
   "nbconvert_exporter": "python",
   "pygments_lexer": "ipython3",
   "version": "3.8.10"
  }
 },
 "nbformat": 4,
 "nbformat_minor": 5
}
