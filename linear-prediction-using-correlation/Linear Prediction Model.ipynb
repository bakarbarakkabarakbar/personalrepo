{
 "cells": [
  {
   "cell_type": "code",
   "execution_count": 1,
   "metadata": {},
   "outputs": [],
   "source": [
    "import matplotlib.pyplot as plt\n",
    "from pathlib import Path\n",
    "from os import listdir\n",
    "from os.path import splitext\n",
    "import ipywidgets as widgets\n",
    "from IPython.display import display\n",
    "from dependencies import auto_correlation, cross_correlation, matrix_multiplication\n",
    "from numpy import transpose, array, zeros, arange, absolute, pi, cos, sin, log10, sqrt, square as sqr\n",
    "from numpy.linalg import inv as invers_matrix\n",
    "from pandas import DataFrame\n",
    "%matplotlib widget"
   ]
  },
  {
   "cell_type": "code",
   "execution_count": 2,
   "metadata": {},
   "outputs": [],
   "source": [
    "def on_button_audio_clicked(change):\n",
    "      with out_2:\n",
    "            global audio0\n",
    "            \n",
    "            file = select_audio.get_interact_value()\n",
    "            if (splitext(file)[1] == \".txt\"):\n",
    "                  with open(file, \"r\") as audio:\n",
    "                        text_file = audio.readlines()\n",
    "                  try:\n",
    "                        temp = array([(x.replace(\"\\n\", \"\")).split() for x in text_file])\n",
    "                        audio0 = DataFrame(temp, columns=[\"sequence\", \"amplitude\"])\n",
    "                        audio0 = audio0.astype(float)\n",
    "                  except ValueError:\n",
    "                        print(\"Please select double column text file. File Read Error!\")\n",
    "                        return      \n",
    "            elif (splitext(file)[1] == \".wav\"):\n",
    "                  pass\n",
    "            \n",
    "            fig0_ax0.clear()\n",
    "            print(audio0.dtypes)\n",
    "            audio0[\"amplitude\"].plot(ax=fig0_ax0, xlabel=\"sequence\", ylabel=\"amplitude\")\n",
    "            audio_length.value = f\"{len(audio0)}\"\n",
    "            print('Success!')"
   ]
  },
  {
   "cell_type": "code",
   "execution_count": 3,
   "metadata": {},
   "outputs": [
    {
     "data": {
      "application/vnd.jupyter.widget-view+json": {
       "model_id": "c153e6aa578641f18a61263bcfca0030",
       "version_major": 2,
       "version_minor": 0
      },
      "text/plain": [
       "Output()"
      ]
     },
     "metadata": {},
     "output_type": "display_data"
    },
    {
     "data": {
      "application/vnd.jupyter.widget-view+json": {
       "model_id": "7cd0bed8fef44ce5b15955e4ec026df8",
       "version_major": 2,
       "version_minor": 0
      },
      "text/plain": [
       "HBox(children=(VBox(children=(Select(description='Select Audio:', options=('Print_13_v2_PCG_RV.txt',), value='…"
      ]
     },
     "metadata": {},
     "output_type": "display_data"
    }
   ],
   "source": [
    "audio0 = [] # X(sequence) and Y(ecg signal) value\n",
    "\n",
    "files = listdir(Path().absolute())\n",
    "temp = []\n",
    "for file in files:\n",
    "    if (splitext(file)[1] == \".txt\") or (splitext(file)[1] == \".wav\"):\n",
    "        temp.append(file)\n",
    "files = temp\n",
    "\n",
    "select_audio = widgets.Select(\n",
    "    options=files,\n",
    "    description='Select Audio:',\n",
    "    disabled=False\n",
    ")\n",
    "audio_length = widgets.Text(value='0', disabled=True)\n",
    "button_audio = widgets.Button(description='Select Audio')\n",
    "button_audio.on_click(on_button_audio_clicked)\n",
    "\n",
    "out_1 = widgets.Output()\n",
    "with out_1:\n",
    "    print(\"Please select only audio wav or txt extension from menu\")\n",
    "out_2 = widgets.Output()\n",
    "out_3 = widgets.Output()\n",
    "with out_3:\n",
    "    fig0 = plt.figure(constrained_layout=True)\n",
    "    fig0_ax0 = fig0.add_axes([0.1,0.1,0.85,0.85])\n",
    "\n",
    "vertical_box_1 = widgets.VBox([select_audio, audio_length, button_audio, out_2])\n",
    "horizontal_box_1 = widgets.HBox([vertical_box_1, out_3])\n",
    "display(out_1, horizontal_box_1)"
   ]
  },
  {
   "cell_type": "code",
   "execution_count": 4,
   "metadata": {},
   "outputs": [
    {
     "data": {
      "application/vnd.jupyter.widget-view+json": {
       "model_id": "f0584d370a0949969dcffad1b82a77de",
       "version_major": 2,
       "version_minor": 0
      },
      "text/plain": [
       "HBox(children=(Output(), Output()))"
      ]
     },
     "metadata": {},
     "output_type": "display_data"
    },
    {
     "data": {
      "application/vnd.jupyter.widget-view+json": {
       "model_id": "43ebe7ec31f14729a1bd7f3a698c4e29",
       "version_major": 2,
       "version_minor": 0
      },
      "text/plain": [
       "HBox(children=(Output(), Output()))"
      ]
     },
     "metadata": {},
     "output_type": "display_data"
    },
    {
     "data": {
      "application/vnd.jupyter.widget-view+json": {
       "model_id": "26492944227441f8ac99adff7a206230",
       "version_major": 2,
       "version_minor": 0
      },
      "text/plain": [
       "Output()"
      ]
     },
     "metadata": {},
     "output_type": "display_data"
    }
   ],
   "source": [
    "# p = len(audio0[\"amplitude\"])\n",
    "# audio_auto_correlation = absolute(auto_correlation(\"normal\", audio0[\"amplitude\"]))\n",
    "p = 6\n",
    "audio_auto_correlation = absolute(auto_correlation(\"timelag\", audio0[\"amplitude\"], timelag = p))\n",
    "rxx_matrix = zeros((p-1, p-1))\n",
    "\n",
    "for i in range(p-1):\n",
    "    j = 0\n",
    "    for k in range(i, 0, -1):\n",
    "        rxx_matrix[i][j] = audio_auto_correlation[k]\n",
    "        j += 1\n",
    "    for l in range(0, p-1-i, 1):\n",
    "        rxx_matrix[i][j] = audio_auto_correlation[l]\n",
    "        j += 1\n",
    "        \n",
    "invers_rxx_matrix = invers_matrix(rxx_matrix)\n",
    "coefficient_predictor = matrix_multiplication(invers_rxx_matrix, audio_auto_correlation[1:])\n",
    "exitator_signal = zeros((len(audio0[\"amplitude\"])))\n",
    "error_model = zeros((len(audio0[\"amplitude\"])))\n",
    "\n",
    "for i in range(len(audio0[\"amplitude\"])):\n",
    "    exitator_signal[i] = audio0[\"amplitude\"][i]\n",
    "    for j in range(0, p):\n",
    "        if i < j:\n",
    "            continue\n",
    "        exitator_signal[i] -= audio_auto_correlation[j] * audio0[\"amplitude\"][i - j]\n",
    "        \n",
    "for i in range(len(exitator_signal)):\n",
    "    error_model[i] = abs(audio0[\"amplitude\"][i] - exitator_signal[i])\n",
    "\n",
    "frequency_response = zeros(round(pi*100))\n",
    "a_signal = zeros(round(pi*100))\n",
    "\n",
    "for i in range(round(pi*100)):\n",
    "    re = 0\n",
    "    im = 0    \n",
    "    omega = i/100\n",
    "    for j in range(0, p-1):\n",
    "        re += coefficient_predictor[j] * cos((j+1)*omega)\n",
    "        im -= coefficient_predictor[j] * sin((j+1)*omega)\n",
    "    frequency_response[i] = 20 * log10(1 / sqrt(sqr(1 - re) + sqr(im)))\n",
    "    a_signal[i] = 20 * log10(sqrt(sqr(1 - re) + sqr(im)))\n",
    "    \n",
    "out_4 = widgets.Output()\n",
    "with out_4:\n",
    "    fig1 = plt.figure(constrained_layout=True)\n",
    "    fig1_ax0 = fig1.add_axes([0.1,0.1,0.85,0.85], xlabel=\"sequence\", ylabel=\"amplitude\")\n",
    "    fig1_ax0.plot(arange(len(audio_auto_correlation)), audio_auto_correlation, label=\"Auto Correlation\")\n",
    "    fig1.legend()\n",
    "    \n",
    "\n",
    "out_5 = widgets.Output()\n",
    "with out_5:\n",
    "    fig2 = plt.figure(constrained_layout=True)\n",
    "    fig2_ax0 = fig2.add_axes([0.1,0.1,0.85,0.85], xlabel=\"sequence\", ylabel=\"amplitude\")\n",
    "    fig2_ax0.plot(arange(len(exitator_signal)), [-x/22 for x in exitator_signal], label=\"Prediction Signal\")\n",
    "    audio0[\"amplitude\"].plot(ax=fig2_ax0, xlabel=\"sequence\", ylabel=\"amplitude\", label=\"Input Signal\")\n",
    "    fig2.legend()\n",
    "    \n",
    "out_6 = widgets.Output()\n",
    "with out_6:\n",
    "    fig3 = plt.figure(constrained_layout=True)\n",
    "    fig3_ax0 = fig3.add_axes([0.1,0.1,0.85,0.85], xlabel=\"sequence\", ylabel=\"amplitude\")\n",
    "    fig3_ax0.plot(arange(len(error_model)), [abs(-x/22) for x in error_model], label=\"Error Signal\")\n",
    "    fig2.legend()\n",
    "    \n",
    "out_7 = widgets.Output()\n",
    "with out_7:\n",
    "    fig4 = plt.figure(constrained_layout=True)\n",
    "    fig4_ax0 = fig4.add_axes([0.1,0.1,0.85,0.85], xlabel=\"sequence\", ylabel=\"amplitude\", yscale=\"log\")\n",
    "    fig4_ax0.plot([x/100 for x in arange(len(frequency_response))][:200], frequency_response[:200], label=\"Frequency Response\")\n",
    "    fig4_ax0.plot([x/100 for x in arange(len(a_signal))][:200], a_signal[82:282], label=\"A Signal\")\n",
    "    fig4.legend()\n",
    "\n",
    "out_8 = widgets.Output()\n",
    "with out_8:\n",
    "    fig5 = plt.figure(constrained_layout=True)\n",
    "    fig5_ax0 = fig5.add_axes([0.1,0.1,0.85,0.85], xlabel=\"Input Signal\", ylabel=\"Prediction Signal\")\n",
    "    fig5_ax0.plot(sorted(audio0[\"amplitude\"]), sorted([-x/22 for x in exitator_signal]))\n",
    "\n",
    "horizontal_box_2 = widgets.HBox([out_4, out_5])\n",
    "horizontal_box_3 = widgets.HBox([out_6, out_7])\n",
    "display(horizontal_box_2, horizontal_box_3, out_8)"
   ]
  }
 ],
 "metadata": {
  "interpreter": {
   "hash": "916dbcbb3f70747c44a77c7bcd40155683ae19c65e1c03b4aa3499c5328201f1"
  },
  "kernelspec": {
   "display_name": "Python 3",
   "language": "python",
   "name": "python3"
  },
  "language_info": {
   "codemirror_mode": {
    "name": "ipython",
    "version": 3
   },
   "file_extension": ".py",
   "mimetype": "text/x-python",
   "name": "python",
   "nbconvert_exporter": "python",
   "pygments_lexer": "ipython3",
   "version": "3.8.10"
  }
 },
 "nbformat": 4,
 "nbformat_minor": 4
}
